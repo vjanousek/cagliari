{
 "cells": [
  {
   "cell_type": "markdown",
   "metadata": {},
   "source": [
    "# R syntax in a nutshell – Part V Programming in R\n",
    "* 3.1 Input and output\n",
    "* 3.2 Conditional execution\n",
    "* 3.3 Loops\n",
    "* 3.4 User-defined functions\n",
    "* 3.5 An alternative to loops – *sapply*"
   ]
  },
  {
   "cell_type": "markdown",
   "metadata": {},
   "source": [
    "## 3.1\tInput and output\n",
    "##### print(x)\n",
    "Prints the contents of an object `x`, nicely formatted.\n",
    "#### cat(…, file = \"\", sep = \"\")\n",
    "This function displays the contents of one or more R objects in a less sophisticated way, but enabling much more control over the output format. \n",
    "\n",
    "**NB** that this function does not append a newline character that must be added explicitly to the output string as `\"\\n\"`."
   ]
  },
  {
   "cell_type": "code",
   "execution_count": null,
   "metadata": {},
   "outputs": [],
   "source": [
    "x <- 5.8\n",
    "cat(\"The result is\",x,\"N/m.\\n\",sep=\"***\")"
   ]
  },
  {
   "cell_type": "markdown",
   "metadata": {},
   "source": [
    "#### readline(prompt)\n",
    "Displays the prompt and then reads input from the keyboard:\n",
    "```R\n",
    "> x <- readline(\"Enter x:\\n\")\n",
    "Enter x:\n",
    "> 5.8\n",
    "> x\n",
    "[1] \"5.8\"\n",
    "```\n",
    "This example shows that keyboard input is always in the form of a character vector of length 1. If required it has to be coerced to a numeric value using the function `as.numeric`:\n",
    "```R\n",
    "> x <- as.numeric(x)\n",
    "> x\n",
    "[1] 5.8\n",
    "```"
   ]
  },
  {
   "cell_type": "markdown",
   "metadata": {},
   "source": [
    "## 3.2\tConditional execution\n",
    "<img src=\"images/execution.png\" style=\"float:right;width:124px;\">\n",
    "\n",
    "Conditional execution of R code can be achieved using: \n",
    "#### if(*condition*) *expression1* else *expression2*\n",
    "If `condition` evaluates to `TRUE`, `expression1` is executed, otherwise `expression2` is run. \n",
    "Complicated commands may be grouped together in braces:"
   ]
  },
  {
   "cell_type": "code",
   "execution_count": null,
   "metadata": {},
   "outputs": [],
   "source": [
    "x <- 3\n",
    "y <- 0.5\n",
    "if(x>2 & y<1){\n",
    "    print(x)\n",
    "    print(y)\n",
    "}else{\n",
    "    cat(\"Warning, x<=2 or y>=1!\\n\")\n",
    "}"
   ]
  },
  {
   "cell_type": "markdown",
   "metadata": {},
   "source": [
    "## 3.3\tLoops\n",
    "Sometimes it is useful to run some chunk of code repetitively in a loop. \n",
    "Due to the powerful indexing in R, loops are needed considerably less often than in any \n",
    "conventional programming language. They can be built using the statement: \n",
    "#### for(*variable* in *expression1*) *expression2*\n",
    "`expression2` is a chunk of R code, usually grouped in braces to be executed once for each \n",
    "of the values of the control `variable`. The range of possible values for the variable is \n",
    "specified by a vector, `expression1`. \n",
    "    \n",
    "See the example, which calculates and prints the square roots of the sequence of numbers 1, 3, 5, 7, and 9:"
   ]
  },
  {
   "cell_type": "code",
   "execution_count": null,
   "metadata": {},
   "outputs": [],
   "source": [
    "for(f in seq(1,10,by=2)){\n",
    "    cat(\"Square root of\",f,\"is\",sqrt(f),\"\\n\")\n",
    "} "
   ]
  },
  {
   "cell_type": "markdown",
   "metadata": {},
   "source": [
    "<img src=\"images/warning-icon.png\" style=\"float:left;width:32px;height:32px;\">\n",
    "Try to avoid loops if possible. Their execution in R tends to be time consuming and there are, usually, other alternatives.  For instance here, thanks to the recycling rules in R, we can write:"
   ]
  },
  {
   "cell_type": "code",
   "execution_count": null,
   "metadata": {},
   "outputs": [],
   "source": [
    "x <- seq(1,10,by=2)\n",
    "ee <- paste(\"Square root of\",x,\"is\",round(sqrt(x),6))\n",
    "print(ee)"
   ]
  },
  {
   "cell_type": "markdown",
   "metadata": {},
   "source": [
    "Commands `apply`, `tapply` or `sapply` (below) are commonly a better approach."
   ]
  },
  {
   "cell_type": "markdown",
   "metadata": {},
   "source": [
    "#### while(*condition*) *expression*\n",
    "In this case, `expression` will be executed as long as the `condition` remains valid (i.e. is `TRUE`).\n",
    "#### repeat *expression*\n",
    "This command is used in conjunction with a `break` statement \n",
    "(this is not a function and thus no brackets are required). \n",
    "In fact, the `break` statement can be used to terminate any loop, if necessary. \n",
    "The `next` statement can be invoked to discontinue one particular cycle and skip to the next one."
   ]
  },
  {
   "cell_type": "markdown",
   "metadata": {},
   "source": [
    "## 3.4\tUser-defined functions\n",
    "User-defined functions provide a stylish way of extending the set of the available commands. In fact, much of the R itself is written in R! The function definition looks like: \n",
    "#### function.name <– function(*argument1*, *argument2*, …) *expression*\n",
    "The `expression` is a chunk of R code, usually grouped in braces. In order to avoid confusion, the last statement should be `return(z)`, where `z` is an expression or variable name giving the value(s) to be returned by the function.If more values need to be returned, they can be assembled into a list object.\n",
    "For example, we can write a user-defined function calculating a geometric mean, defined as the nth root of the product of `n` numbers, and use it on some data:\n",
    "$$S=\\sqrt[n]{\\prod\\limits_{i=1}^{n}{{{x}_{i}}}}$$"
   ]
  },
  {
   "cell_type": "code",
   "execution_count": null,
   "metadata": {},
   "outputs": [],
   "source": [
    "geo.mean <- function(x){\n",
    "        out <- prod(x)^(1/length(x))\n",
    "        return(out)\n",
    "}\n",
    "sazava  <-  read.table(\"data/sazava.data\",sep=\"\\t\")\n",
    "print(geo.mean(sazava[,\"SiO2\"]))\n"
   ]
  },
  {
   "cell_type": "markdown",
   "metadata": {},
   "source": [
    "### 3.4.1\tArguments to functions\n",
    "There are two possibilities for providing arguments to a R function. First, you can pass them in the order matching the function’s definition. The second is to supply the arguments in the form `argument.name = value` in an arbitrary sequence. \n",
    "When writing a user-defined function, one can provide default values as in the following example:"
   ]
  },
  {
   "cell_type": "code",
   "execution_count": null,
   "metadata": {},
   "outputs": [],
   "source": [
    "options(repr.plot.width=10, repr.plot.height=10)     # Setting the size of output in Jupyter notebook\n",
    "options(jupyter.plot_mimetypes = \"image/png\")        # Change mimetype to PNG\n",
    "\n",
    "# Using image/svg+xml\n",
    "# May not work in some browsers (but is optimal for Chrome, Firefox...)\n",
    "options(repr.plot.width=5, repr.plot.height=5)\n",
    "options(jupyter.plot_mimetypes = \"image/svg+xml\")  "
   ]
  },
  {
   "cell_type": "code",
   "execution_count": null,
   "metadata": {},
   "outputs": [],
   "source": [
    "my.plot <- function(x,y,symb=\"+\",colour=\"red\",cex=2){\n",
    "    plot(x,y,pch=symb,col=colour,cex=cex)\n",
    "}"
   ]
  },
  {
   "cell_type": "markdown",
   "metadata": {},
   "source": [
    "And such a function then can be called in a number of ways, for instance:"
   ]
  },
  {
   "cell_type": "code",
   "execution_count": null,
   "metadata": {},
   "outputs": [],
   "source": [
    "x.coord<-c(1,12,15,3)\n",
    "y.coord<-c(2,24,30,6)\n",
    "my.plot(x.coord,y.coord,colour=\"blue\")  "
   ]
  },
  {
   "cell_type": "markdown",
   "metadata": {},
   "source": [
    "But it is also obvious that: \n",
    "```R\n",
    "my.plot(x.coord,y.coord,\"blue\") \n",
    "```\n",
    "will not work as intended because the third parameter will be interpreted as parameter `symb`, i.e. a plotting character and a red ‘b’ will be plotted."
   ]
  },
  {
   "cell_type": "code",
   "execution_count": null,
   "metadata": {},
   "outputs": [],
   "source": [
    "my.plot(x.coord,y.coord,\"blue\") "
   ]
  },
  {
   "cell_type": "markdown",
   "metadata": {},
   "source": [
    "Note that in R, most of the arguments to the functions have been given sensible defaults appropriate to most of the applications. Thus the ordinary user does not need to specify all of them, or to even be aware of their existence.\n",
    "##### args(fun.name)\n",
    "Displays the arguments to an existing function specified by fun.name, e.g.:"
   ]
  },
  {
   "cell_type": "code",
   "execution_count": null,
   "metadata": {},
   "outputs": [],
   "source": [
    "args(\"my.plot\")"
   ]
  },
  {
   "cell_type": "markdown",
   "metadata": {},
   "source": [
    "### 3.4.2\tAssignments in functions\n",
    "Importantly, the variables used within a user-defined function (in the example of the function calculating a geometric mean these were `x` and `z`) are local (in R jargon, limited to the function’s environment). This means that any assignments done within the function are temporary, being lost after the evaluation is done. Therefore, such assignments do not affect the value of the variable with the same name in the calling environment. "
   ]
  },
  {
   "cell_type": "code",
   "execution_count": null,
   "metadata": {},
   "outputs": [],
   "source": [
    "out<-12.5556\n",
    "my.plot <- function(x,y,symb=\"+\",colour=\"red\",cex=2){\n",
    "    plot(x,y,pch=symb,col=colour,cex=cex)\n",
    "    out<-\"text assigned within the body of function definition\"\n",
    "}\n",
    "my.plot(x.coord,y.coord,colour=\"blue\") \n",
    "out"
   ]
  },
  {
   "cell_type": "markdown",
   "metadata": {},
   "source": [
    "In (rare) cases when it is desirable to alter the value of a variable globally (in the `.GlobalEnv` environment), this can be done with the “super assignment”:\n",
    "```R\n",
    "x <<- \"Hello\"\n",
    "```"
   ]
  },
  {
   "cell_type": "markdown",
   "metadata": {},
   "source": [
    "## 3.5\tAn alternative to loops – *sapply*\n",
    "If loop-like execution of code seems unavoidable, often a most time-efficient solution can be made using functions such as `apply`, `tapply` or `sapply`.\n",
    "#### sapply(x, FUN)\n",
    "Applies a function `FUN` over a vector `x`. This means, that the function is run once for each of the values in the vector `x`. An example (the same as given for for loops, but quicker and more compact):"
   ]
  },
  {
   "cell_type": "code",
   "execution_count": null,
   "metadata": {},
   "outputs": [],
   "source": [
    "i <- seq(1,10,by=2)\n",
    "ee <- sapply(i,sqrt)\n",
    "print(paste(\"Square root of \",i,\" is \",round(ee,6)))"
   ]
  },
  {
   "cell_type": "markdown",
   "metadata": {},
   "source": [
    "Of course, the function `FUN` can also be a user-defined one.\n",
    "### Anonymous functions\n",
    "A strategy, often employed in R, is to use an anonymous function. So called, as it is not named and not visible outside the `sapply` statement:"
   ]
  },
  {
   "cell_type": "code",
   "execution_count": null,
   "metadata": {},
   "outputs": [],
   "source": [
    "ee <- sapply(seq(1,10,by=2),function(j){\n",
    "    z <- paste(\"Square root of \",j,\" is \",round(sqrt(j),6))\n",
    "    return(z)\n",
    "})\n",
    "print(ee)"
   ]
  }
 ],
 "metadata": {
  "kernelspec": {
   "display_name": "R",
   "language": "R",
   "name": "ir"
  },
  "language_info": {
   "codemirror_mode": "r",
   "file_extension": ".r",
   "mimetype": "text/x-r-source",
   "name": "R",
   "pygments_lexer": "r",
   "version": "4.1.2"
  }
 },
 "nbformat": 4,
 "nbformat_minor": 4
}
