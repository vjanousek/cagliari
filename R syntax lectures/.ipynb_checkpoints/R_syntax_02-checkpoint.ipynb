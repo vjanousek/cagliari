{
 "cells": [
  {
   "cell_type": "markdown",
   "metadata": {},
   "source": [
    "# R syntax in a nutshell – Part II\n",
    "* 1.6 Arrays, matrices, data frames\n",
    "* 1.7 Building simple databases: indexing/subsetting of vectors, arrays and data frames\n",
    "* 1.8 Lists\n",
    "* 1.9 Coercion of individual object types"
   ]
  },
  {
   "cell_type": "markdown",
   "metadata": {},
   "source": [
    "## 1.6\tArrays, matrices, data frames\n",
    "Several kinds of table-like objects exist in R. **Data frames** are data objects to be processed by statistics, with “observations” as columns (elements/oxides in geochemistry) and “cases” (samples) in rows. They can contain columns of any mode, even mixed modes; thus they are not meant for matrix operations.\n",
    "\n",
    "On the other hand, all elements of a **matrix** can only be of a single mode (numeric, most commonly). **Arrays** are generalized matrices: they must have a single mode but can have any number of dimensions. Although superficially similar, these three types of objects must not be confused."
   ]
  },
  {
   "cell_type": "markdown",
   "metadata": {},
   "source": [
    "#### matrix(data = NA, nrow = 1, ncol = 1, byrow = FALSE)\n",
    "This command defines a matrix of `nrow` rows and `ncol` columns, filled by the data (if `data` have several elements, they will be used down the columns, unless an extra parameter `byrow=TRUE` is provided). For instance:"
   ]
  },
  {
   "cell_type": "code",
   "execution_count": 1,
   "metadata": {},
   "outputs": [
    {
     "name": "stdout",
     "output_type": "stream",
     "text": [
      "     [,1] [,2] [,3] [,4]\n",
      "[1,]    1    4    7   10\n",
      "[2,]    2    5    8   11\n",
      "[3,]    3    6    9   12\n"
     ]
    }
   ],
   "source": [
    "x <- matrix(1:12,3,4)\n",
    "print(x)"
   ]
  },
  {
   "cell_type": "code",
   "execution_count": 2,
   "metadata": {},
   "outputs": [
    {
     "name": "stdout",
     "output_type": "stream",
     "text": [
      "     [,1] [,2] [,3] [,4]\n",
      "[1,]    1    2    3    4\n",
      "[2,]    5    6    7    8\n",
      "[3,]    9   10   11   12\n"
     ]
    }
   ],
   "source": [
    "x <- matrix(1:12,3,4,byrow=TRUE)\n",
    "print(x)"
   ]
  },
  {
   "cell_type": "markdown",
   "metadata": {},
   "source": [
    "<img src=\"images/warning-icon.png\" style=\"float:left;width:32px;height:32px;\">\n",
    "As a default, filling a matrix with data — as well as matrix division by a vector — proceeds along columns, not rows!"
   ]
  },
  {
   "cell_type": "markdown",
   "metadata": {},
   "source": [
    "#### array(data = NA, dim = length(data))\n",
    "Defines a new data array and fills it with `data`. The argument `dim` is a vector of length one or more, giving maximal dimensions in each of the directions."
   ]
  },
  {
   "cell_type": "markdown",
   "metadata": {},
   "source": [
    "### 1.6.1\tMatrix/data frame operations\n",
    "Matrices can be subject to scalar operations using the common operators (`+-*/^`). Similar to vectors, the shorter component is recycled as appropriate. Useful functions for matrix/data frame manipulations are summarized in the following Table:"
   ]
  },
  {
   "cell_type": "markdown",
   "metadata": {},
   "source": [
    "|Function|Meaning|\n",
    "|:---|:---|\n",
    "|`nrow(x)`|number of rows|\n",
    "|`ncol(x)`|number of columns|\n",
    "|`rownames(x)` |row names|\n",
    "|`colnames(x)`|column names|\n",
    "|`rbind(x,y)`|binds two objects (matrices or data frames) of the same `ncol` (or vectors of the same length) as rows|\n",
    "|`cbind(x,y)`|binds two objects (matrices or data frames) of the same `nrow` (or vectors of the same length) as columns|\n",
    "|`t(x)` |matrix transposition|\n",
    "|`apply(X,MARGIN,FUN)` |applies function `FUN` (for vector manipulations) along the rows (`MARGIN` = 1) or columns (`MARGIN` = 2) of a data matrix `X`|\n",
    "|`x%*%y`|matrix multiplication (does not work on a data frame!)|\n",
    "|`solve(A)`|matrix inversion|\n",
    "|`dix(x)`|diagonal elements of a matrix|\n"
   ]
  },
  {
   "cell_type": "markdown",
   "metadata": {},
   "source": [
    "It is worth noting that matrix multiplication is performed using the `%*%` operator. "
   ]
  },
  {
   "cell_type": "markdown",
   "metadata": {},
   "source": [
    "<img src=\"images/exercise-icon.png\" style=\"float:left;width:40px;height:40px;\">\n",
    "The function `solve` can serve to solving a set of linear argebraic equations. \n",
    "Here is an example; we shal try to solve the following set of linear equations:"
   ]
  },
  {
   "cell_type": "markdown",
   "metadata": {},
   "source": [
    "x \t+\t2y\t–\t0.7z\t=\t21\n",
    "\n",
    "3x\t+\t0.2y\t–\tz\t=\t24\n",
    "\n",
    "0.9x\t+\t7y\t–\t2z\t=\t27\n",
    "\n",
    "Let's first specify the matrix of coeffients to the individual variables:"
   ]
  },
  {
   "cell_type": "code",
   "execution_count": 3,
   "metadata": {},
   "outputs": [
    {
     "name": "stdout",
     "output_type": "stream",
     "text": [
      "     [,1] [,2] [,3]\n",
      "[1,]  1.0  2.0 -0.7\n",
      "[2,]  3.0  0.2 -1.0\n",
      "[3,]  0.9  7.0 -2.0\n"
     ]
    }
   ],
   "source": [
    "A <- matrix(c(1,3,0.9,2,0.2,7,-0.7,-1,-2),3,3)\n",
    "print(A) "
   ]
  },
  {
   "cell_type": "markdown",
   "metadata": {},
   "source": [
    "And then the vector of right hand sides:"
   ]
  },
  {
   "cell_type": "code",
   "execution_count": 4,
   "metadata": {},
   "outputs": [
    {
     "data": {
      "text/html": [
       "<style>\n",
       ".list-inline {list-style: none; margin:0; padding: 0}\n",
       ".list-inline>li {display: inline-block}\n",
       ".list-inline>li:not(:last-child)::after {content: \"\\00b7\"; padding: 0 .5ex}\n",
       "</style>\n",
       "<ol class=list-inline><li>21</li><li>24</li><li>27</li></ol>\n"
      ],
      "text/latex": [
       "\\begin{enumerate*}\n",
       "\\item 21\n",
       "\\item 24\n",
       "\\item 27\n",
       "\\end{enumerate*}\n"
      ],
      "text/markdown": [
       "1. 21\n",
       "2. 24\n",
       "3. 27\n",
       "\n",
       "\n"
      ],
      "text/plain": [
       "[1] 21 24 27"
      ]
     },
     "metadata": {},
     "output_type": "display_data"
    }
   ],
   "source": [
    "y <- c(21,24,27)\n",
    "y"
   ]
  },
  {
   "cell_type": "code",
   "execution_count": 5,
   "metadata": {},
   "outputs": [
    {
     "data": {
      "text/html": [
       "<style>\n",
       ".list-inline {list-style: none; margin:0; padding: 0}\n",
       ".list-inline>li {display: inline-block}\n",
       ".list-inline>li:not(:last-child)::after {content: \"\\00b7\"; padding: 0 .5ex}\n",
       "</style>\n",
       "<ol class=list-inline><li>30</li><li>20</li><li>70</li></ol>\n"
      ],
      "text/latex": [
       "\\begin{enumerate*}\n",
       "\\item 30\n",
       "\\item 20\n",
       "\\item 70\n",
       "\\end{enumerate*}\n"
      ],
      "text/markdown": [
       "1. 30\n",
       "2. 20\n",
       "3. 70\n",
       "\n",
       "\n"
      ],
      "text/plain": [
       "[1] 30 20 70"
      ]
     },
     "metadata": {},
     "output_type": "display_data"
    }
   ],
   "source": [
    "x <- solve(A,y)\n",
    "x"
   ]
  },
  {
   "cell_type": "code",
   "execution_count": 6,
   "metadata": {},
   "outputs": [
    {
     "name": "stdout",
     "output_type": "stream",
     "text": [
      "     [,1]\n",
      "[1,]   21\n",
      "[2,]   24\n",
      "[3,]   27\n"
     ]
    }
   ],
   "source": [
    "# checking the result, back-calculating y\n",
    "print(A%*%x)"
   ]
  },
  {
   "cell_type": "markdown",
   "metadata": {},
   "source": [
    "Of the functions presented in the table, some explanation is required for `apply`:\n",
    "#### apply(X, MARGIN, FUN,…)\n",
    "If `X` is a matrix, it is split into vectors along rows (if `MARGIN` = 1) or columns (if `MARGIN` = 2). To each of these vectors is applied the function `FUN` with optional parameters `…` passed to it. \n",
    "For instance, we can calculate row sums of a matrix:"
   ]
  },
  {
   "cell_type": "code",
   "execution_count": 7,
   "metadata": {},
   "outputs": [
    {
     "name": "stdout",
     "output_type": "stream",
     "text": [
      "     [,1] [,2] [,3] [,4]\n",
      "[1,]    1    2    3    4\n",
      "[2,]    5    6    7    8\n",
      "[3,]    9   10   11   12\n"
     ]
    },
    {
     "data": {
      "text/html": [
       "<style>\n",
       ".list-inline {list-style: none; margin:0; padding: 0}\n",
       ".list-inline>li {display: inline-block}\n",
       ".list-inline>li:not(:last-child)::after {content: \"\\00b7\"; padding: 0 .5ex}\n",
       "</style>\n",
       "<ol class=list-inline><li>10</li><li>26</li><li>42</li></ol>\n"
      ],
      "text/latex": [
       "\\begin{enumerate*}\n",
       "\\item 10\n",
       "\\item 26\n",
       "\\item 42\n",
       "\\end{enumerate*}\n"
      ],
      "text/markdown": [
       "1. 10\n",
       "2. 26\n",
       "3. 42\n",
       "\n",
       "\n"
      ],
      "text/plain": [
       "[1] 10 26 42"
      ]
     },
     "metadata": {},
     "output_type": "display_data"
    }
   ],
   "source": [
    "x <- matrix(1:12,3,4,byrow=TRUE)\n",
    "print(x)\n",
    "apply(x,1,sum)"
   ]
  },
  {
   "cell_type": "markdown",
   "metadata": {},
   "source": [
    "## 1.7\tBuilding simple databases: indexing/subsetting of vectors, arrays and data frames\n",
    "In real life, one often needs to select some elements of a vector or a matrix, fulfilling certain criteria. This can be achieved using logical conditions or logical variables placed in **square brackets** after the object name. Subsets can be also used on the left hand side of the assignments when replacement of selected elements by certain values is desired.  \n",
    "### 1.7.1\tVectors\n",
    "Subsets of a vector may be selected by appending to the name of the vector an index vector in square brackets. For example, we can first create a named vector:"
   ]
  },
  {
   "cell_type": "code",
   "execution_count": 8,
   "metadata": {},
   "outputs": [
    {
     "name": "stdout",
     "output_type": "stream",
     "text": [
      " Pl  Bt  Mu   Q Kfs  Ky  Ol  Px   C \n",
      "  1  12  15  NA  16  13   0  NA  NA \n"
     ]
    }
   ],
   "source": [
    "x <- c(1,12,15,NA,16,13,0,NA,NA)\n",
    "names(x) <- c(\"Pl\",\"Bt\",\"Mu\",\"Q\",\"Kfs\",\"Ky\",\"Ol\",\"Px\",\"C\") \n",
    "print(x)"
   ]
  },
  {
   "cell_type": "markdown",
   "metadata": {},
   "source": [
    "Index vectors can be of several types: logical, numeric (with positive or negative values), and character:"
   ]
  },
  {
   "cell_type": "markdown",
   "metadata": {},
   "source": [
    "#### 1.\tLogical vector"
   ]
  },
  {
   "cell_type": "code",
   "execution_count": 9,
   "metadata": {},
   "outputs": [
    {
     "data": {
      "text/html": [
       "<style>\n",
       ".dl-inline {width: auto; margin:0; padding: 0}\n",
       ".dl-inline>dt, .dl-inline>dd {float: none; width: auto; display: inline-block}\n",
       ".dl-inline>dt::after {content: \":\\0020\"; padding-right: .5ex}\n",
       ".dl-inline>dt:not(:first-of-type) {padding-left: .5ex}\n",
       "</style><dl class=dl-inline><dt>Pl</dt><dd>1</dd><dt>Bt</dt><dd>12</dd><dt>Mu</dt><dd>15</dd><dt>Kfs</dt><dd>16</dd><dt>Ky</dt><dd>13</dd><dt>Ol</dt><dd>0</dd></dl>\n"
      ],
      "text/latex": [
       "\\begin{description*}\n",
       "\\item[Pl] 1\n",
       "\\item[Bt] 12\n",
       "\\item[Mu] 15\n",
       "\\item[Kfs] 16\n",
       "\\item[Ky] 13\n",
       "\\item[Ol] 0\n",
       "\\end{description*}\n"
      ],
      "text/markdown": [
       "Pl\n",
       ":   1Bt\n",
       ":   12Mu\n",
       ":   15Kfs\n",
       ":   16Ky\n",
       ":   13Ol\n",
       ":   0\n",
       "\n"
      ],
      "text/plain": [
       " Pl  Bt  Mu Kfs  Ky  Ol \n",
       "  1  12  15  16  13   0 "
      ]
     },
     "metadata": {},
     "output_type": "display_data"
    }
   ],
   "source": [
    "#x[x>10]      # all elements of x higher than 10 (or NA)\n",
    "x[!is.na(x)] # all elements of x that are available"
   ]
  },
  {
   "cell_type": "markdown",
   "metadata": {},
   "source": [
    "#### 2.\tNumeric vector with positive values"
   ]
  },
  {
   "cell_type": "code",
   "execution_count": 10,
   "metadata": {},
   "outputs": [
    {
     "data": {
      "text/html": [
       "<style>\n",
       ".dl-inline {width: auto; margin:0; padding: 0}\n",
       ".dl-inline>dt, .dl-inline>dd {float: none; width: auto; display: inline-block}\n",
       ".dl-inline>dt::after {content: \":\\0020\"; padding-right: .5ex}\n",
       ".dl-inline>dt:not(:first-of-type) {padding-left: .5ex}\n",
       "</style><dl class=dl-inline><dt>Pl</dt><dd>1</dd><dt>Bt</dt><dd>12</dd><dt>Mu</dt><dd>15</dd><dt>Q</dt><dd>&lt;NA&gt;</dd><dt>Kfs</dt><dd>16</dd></dl>\n"
      ],
      "text/latex": [
       "\\begin{description*}\n",
       "\\item[Pl] 1\n",
       "\\item[Bt] 12\n",
       "\\item[Mu] 15\n",
       "\\item[Q] <NA>\n",
       "\\item[Kfs] 16\n",
       "\\end{description*}\n"
      ],
      "text/markdown": [
       "Pl\n",
       ":   1Bt\n",
       ":   12Mu\n",
       ":   15Q\n",
       ":   &lt;NA&gt;Kfs\n",
       ":   16\n",
       "\n"
      ],
      "text/plain": [
       " Pl  Bt  Mu   Q Kfs \n",
       "  1  12  15  NA  16 "
      ]
     },
     "metadata": {},
     "output_type": "display_data"
    },
    {
     "data": {
      "text/html": [
       "<style>\n",
       ".dl-inline {width: auto; margin:0; padding: 0}\n",
       ".dl-inline>dt, .dl-inline>dd {float: none; width: auto; display: inline-block}\n",
       ".dl-inline>dt::after {content: \":\\0020\"; padding-right: .5ex}\n",
       ".dl-inline>dt:not(:first-of-type) {padding-left: .5ex}\n",
       "</style><dl class=dl-inline><dt>Pl</dt><dd>1</dd><dt>Kfs</dt><dd>16</dd><dt>Ol</dt><dd>0</dd></dl>\n"
      ],
      "text/latex": [
       "\\begin{description*}\n",
       "\\item[Pl] 1\n",
       "\\item[Kfs] 16\n",
       "\\item[Ol] 0\n",
       "\\end{description*}\n"
      ],
      "text/markdown": [
       "Pl\n",
       ":   1Kfs\n",
       ":   16Ol\n",
       ":   0\n",
       "\n"
      ],
      "text/plain": [
       " Pl Kfs  Ol \n",
       "  1  16   0 "
      ]
     },
     "metadata": {},
     "output_type": "display_data"
    }
   ],
   "source": [
    "x[1:5]      # the first five elements\n",
    "x[c(1,5,7)] # 1st, 5th and 7th elements"
   ]
  },
  {
   "cell_type": "markdown",
   "metadata": {},
   "source": [
    "#### 3.\tNumeric vector with negative values (specifies elements to be excluded)"
   ]
  },
  {
   "cell_type": "code",
   "execution_count": 11,
   "metadata": {},
   "outputs": [
    {
     "data": {
      "text/html": [
       "<style>\n",
       ".dl-inline {width: auto; margin:0; padding: 0}\n",
       ".dl-inline>dt, .dl-inline>dd {float: none; width: auto; display: inline-block}\n",
       ".dl-inline>dt::after {content: \":\\0020\"; padding-right: .5ex}\n",
       ".dl-inline>dt:not(:first-of-type) {padding-left: .5ex}\n",
       "</style><dl class=dl-inline><dt>Pl</dt><dd>1</dd><dt>Bt</dt><dd>12</dd><dt>Mu</dt><dd>15</dd><dt>Q</dt><dd>&lt;NA&gt;</dd><dt>Kfs</dt><dd>16</dd><dt>Ky</dt><dd>13</dd><dt>Ol</dt><dd>0</dd><dt>Px</dt><dd>&lt;NA&gt;</dd><dt>C</dt><dd>&lt;NA&gt;</dd></dl>\n"
      ],
      "text/latex": [
       "\\begin{description*}\n",
       "\\item[Pl] 1\n",
       "\\item[Bt] 12\n",
       "\\item[Mu] 15\n",
       "\\item[Q] <NA>\n",
       "\\item[Kfs] 16\n",
       "\\item[Ky] 13\n",
       "\\item[Ol] 0\n",
       "\\item[Px] <NA>\n",
       "\\item[C] <NA>\n",
       "\\end{description*}\n"
      ],
      "text/markdown": [
       "Pl\n",
       ":   1Bt\n",
       ":   12Mu\n",
       ":   15Q\n",
       ":   &lt;NA&gt;Kfs\n",
       ":   16Ky\n",
       ":   13Ol\n",
       ":   0Px\n",
       ":   &lt;NA&gt;C\n",
       ":   &lt;NA&gt;\n",
       "\n"
      ],
      "text/plain": [
       " Pl  Bt  Mu   Q Kfs  Ky  Ol  Px   C \n",
       "  1  12  15  NA  16  13   0  NA  NA "
      ]
     },
     "metadata": {},
     "output_type": "display_data"
    },
    {
     "data": {
      "text/html": [
       "<style>\n",
       ".dl-inline {width: auto; margin:0; padding: 0}\n",
       ".dl-inline>dt, .dl-inline>dd {float: none; width: auto; display: inline-block}\n",
       ".dl-inline>dt::after {content: \":\\0020\"; padding-right: .5ex}\n",
       ".dl-inline>dt:not(:first-of-type) {padding-left: .5ex}\n",
       "</style><dl class=dl-inline><dt>Ky</dt><dd>13</dd><dt>Ol</dt><dd>0</dd><dt>Px</dt><dd>&lt;NA&gt;</dd><dt>C</dt><dd>&lt;NA&gt;</dd></dl>\n"
      ],
      "text/latex": [
       "\\begin{description*}\n",
       "\\item[Ky] 13\n",
       "\\item[Ol] 0\n",
       "\\item[Px] <NA>\n",
       "\\item[C] <NA>\n",
       "\\end{description*}\n"
      ],
      "text/markdown": [
       "Ky\n",
       ":   13Ol\n",
       ":   0Px\n",
       ":   &lt;NA&gt;C\n",
       ":   &lt;NA&gt;\n",
       "\n"
      ],
      "text/plain": [
       "Ky Ol Px  C \n",
       "13  0 NA NA "
      ]
     },
     "metadata": {},
     "output_type": "display_data"
    }
   ],
   "source": [
    "x\n",
    "x[-(1:5)] # all elements except for the first five"
   ]
  },
  {
   "cell_type": "markdown",
   "metadata": {},
   "source": [
    "#### 4.\tCharacter vector (referring to the element names)"
   ]
  },
  {
   "cell_type": "code",
   "execution_count": 12,
   "metadata": {},
   "outputs": [
    {
     "data": {
      "text/html": [
       "<style>\n",
       ".dl-inline {width: auto; margin:0; padding: 0}\n",
       ".dl-inline>dt, .dl-inline>dd {float: none; width: auto; display: inline-block}\n",
       ".dl-inline>dt::after {content: \":\\0020\"; padding-right: .5ex}\n",
       ".dl-inline>dt:not(:first-of-type) {padding-left: .5ex}\n",
       "</style><dl class=dl-inline><dt>Q</dt><dd>&lt;NA&gt;</dd><dt>Bt</dt><dd>12</dd><dt>Mu</dt><dd>15</dd></dl>\n"
      ],
      "text/latex": [
       "\\begin{description*}\n",
       "\\item[Q] <NA>\n",
       "\\item[Bt] 12\n",
       "\\item[Mu] 15\n",
       "\\end{description*}\n"
      ],
      "text/markdown": [
       "Q\n",
       ":   &lt;NA&gt;Bt\n",
       ":   12Mu\n",
       ":   15\n",
       "\n"
      ],
      "text/plain": [
       " Q Bt Mu \n",
       "NA 12 15 "
      ]
     },
     "metadata": {},
     "output_type": "display_data"
    }
   ],
   "source": [
    "x[c(\"Q\",\"Bt\",\"Mu\")]"
   ]
  },
  {
   "cell_type": "markdown",
   "metadata": {},
   "source": [
    "### 1.7.2\tMatrices/data frames\n",
    "Elements of a matrix are presented in the order `[row,column]`. If nothing is given for a `row` or `column`, it means no restriction. For instance:\n",
    "```R\n",
    "x[1,]          # (all columns) of the first row\n",
    "x[,c(1,3)]     # (all rows) of the first and third columns\n",
    "x[1:3,-2]      # all columns (apart from the 2nd) of rows 1–3\n",
    "```\n",
    "If the result is a single row or column, it is automatically converted to a vector. To prevent such a behaviour, one can supply an optional parameter `drop=FALSE`, e.g.:\n",
    "```R\n",
    "x[1,,drop=FALSE]   # (all columns) of the 1st row, keep as matrix\n",
    "```\n",
    "\n",
    "Moreover, matrices can be manipulated using index arrays. This concept is best explained on an example. Let’s assume a matrix defined as:\n",
    "```R\n",
    "x <- matrix(1:20,4,5)\n",
    "```\n",
    "If the elements `[1,3]`, `[2,2]` and `[3,1]` in `x` are to be replaced by zeroes, we can create an  index array `i` containing the element coordinates:"
   ]
  },
  {
   "cell_type": "code",
   "execution_count": 13,
   "metadata": {},
   "outputs": [
    {
     "name": "stdout",
     "output_type": "stream",
     "text": [
      "     [,1] [,2] [,3] [,4] [,5]\n",
      "[1,]    1    5    9   13   17\n",
      "[2,]    2    6   10   14   18\n",
      "[3,]    3    7   11   15   19\n",
      "[4,]    4    8   12   16   20\n"
     ]
    }
   ],
   "source": [
    "x <- matrix(1:20,4,5)\n",
    "print(x)"
   ]
  },
  {
   "cell_type": "code",
   "execution_count": 14,
   "metadata": {},
   "outputs": [
    {
     "name": "stdout",
     "output_type": "stream",
     "text": [
      "[1]  1  5  9 13 17\n",
      "     [,1] [,2] [,3] [,4] [,5]\n",
      "[1,]    1    5    9   13   17\n"
     ]
    }
   ],
   "source": [
    "print(x[1,])\n",
    "print(x[1,,drop=FALSE])"
   ]
  },
  {
   "cell_type": "code",
   "execution_count": 15,
   "metadata": {},
   "outputs": [
    {
     "name": "stdout",
     "output_type": "stream",
     "text": [
      "     [,1] [,2]\n",
      "[1,]    1    9\n",
      "[2,]    2   10\n",
      "[3,]    3   11\n",
      "[4,]    4   12\n"
     ]
    }
   ],
   "source": [
    "print(x[,c(1,3)])"
   ]
  },
  {
   "cell_type": "code",
   "execution_count": 16,
   "metadata": {},
   "outputs": [
    {
     "name": "stdout",
     "output_type": "stream",
     "text": [
      "     [,1] [,2] [,3] [,4]\n",
      "[1,]    1    9   13   17\n",
      "[2,]    2   10   14   18\n",
      "[3,]    3   11   15   19\n"
     ]
    }
   ],
   "source": [
    "print(x[1:3,-2])"
   ]
  },
  {
   "cell_type": "code",
   "execution_count": 17,
   "metadata": {},
   "outputs": [
    {
     "name": "stdout",
     "output_type": "stream",
     "text": [
      "     [,1] [,2] [,3] [,4] [,5]\n",
      "[1,]    1    5    9   13   17\n",
      "[2,]    2    6   10   14   18\n",
      "[3,]    3    7   11   15   19\n",
      "[4,]    4    8   12   16   20\n",
      "     [,1] [,2]\n",
      "[1,]    1    3\n",
      "[2,]    2    2\n",
      "[3,]    3    1\n"
     ]
    }
   ],
   "source": [
    "x <- matrix(1:20,4,5)\n",
    "print(x)\n",
    "i <- matrix(c(1,2,3,3,2,1),3,2)\n",
    "print(i)"
   ]
  },
  {
   "cell_type": "code",
   "execution_count": 18,
   "metadata": {},
   "outputs": [
    {
     "data": {
      "text/html": [
       "<style>\n",
       ".list-inline {list-style: none; margin:0; padding: 0}\n",
       ".list-inline>li {display: inline-block}\n",
       ".list-inline>li:not(:last-child)::after {content: \"\\00b7\"; padding: 0 .5ex}\n",
       "</style>\n",
       "<ol class=list-inline><li>9</li><li>6</li><li>3</li></ol>\n"
      ],
      "text/latex": [
       "\\begin{enumerate*}\n",
       "\\item 9\n",
       "\\item 6\n",
       "\\item 3\n",
       "\\end{enumerate*}\n"
      ],
      "text/markdown": [
       "1. 9\n",
       "2. 6\n",
       "3. 3\n",
       "\n",
       "\n"
      ],
      "text/plain": [
       "[1] 9 6 3"
      ]
     },
     "metadata": {},
     "output_type": "display_data"
    }
   ],
   "source": [
    "x[i]"
   ]
  },
  {
   "cell_type": "code",
   "execution_count": 19,
   "metadata": {},
   "outputs": [
    {
     "name": "stdout",
     "output_type": "stream",
     "text": [
      "     [,1] [,2] [,3] [,4] [,5]\n",
      "[1,]    1    5    0   13   17\n",
      "[2,]    2    0   10   14   18\n",
      "[3,]    0    7   11   15   19\n",
      "[4,]    4    8   12   16   20\n"
     ]
    }
   ],
   "source": [
    "x[i] <- 0\n",
    "print(x)"
   ]
  },
  {
   "cell_type": "markdown",
   "metadata": {},
   "source": [
    "The situation for multidimensional arrays is analogous — just the relevant number of dimensions is higher than two."
   ]
  },
  {
   "cell_type": "markdown",
   "metadata": {},
   "source": [
    "<img src=\"images/exercise-icon.png\" style=\"float:left;width:40px;height:40px;\">\n",
    "R involves numerous built in datasets that can be used to demonstrate its capabilities. The object `islands` is a vector with areas of landmasses (i.e. islands and continents) exceeding 10 000 sq. miles. Before we can start working, we need to attach the data object using the command: "
   ]
  },
  {
   "cell_type": "code",
   "execution_count": 20,
   "metadata": {},
   "outputs": [],
   "source": [
    "data(islands)"
   ]
  },
  {
   "cell_type": "markdown",
   "metadata": {},
   "source": [
    "**To-do list:**\n",
    "* Display the whole vector. What is the area of Luzon?\n",
    "* What is the average value of the whole vector?\n",
    "* Which continent is the largest and what is its area?\n",
    "* Which continents/islands have an area larger than 5000 sq. miles?\n",
    "* Display the names of 15 smallest and largest continents/islands.\n",
    "* Assuming that these are British miles, recalculate the data to km2 (1 sq mi = 2.59 km2)"
   ]
  },
  {
   "cell_type": "code",
   "execution_count": 21,
   "metadata": {},
   "outputs": [
    {
     "data": {
      "text/html": [
       "<style>\n",
       ".dl-inline {width: auto; margin:0; padding: 0}\n",
       ".dl-inline>dt, .dl-inline>dd {float: none; width: auto; display: inline-block}\n",
       ".dl-inline>dt::after {content: \":\\0020\"; padding-right: .5ex}\n",
       ".dl-inline>dt:not(:first-of-type) {padding-left: .5ex}\n",
       "</style><dl class=dl-inline><dt>Africa</dt><dd>11506</dd><dt>Antarctica</dt><dd>5500</dd><dt>Asia</dt><dd>16988</dd><dt>Australia</dt><dd>2968</dd><dt>Axel Heiberg</dt><dd>16</dd><dt>Baffin</dt><dd>184</dd></dl>\n"
      ],
      "text/latex": [
       "\\begin{description*}\n",
       "\\item[Africa] 11506\n",
       "\\item[Antarctica] 5500\n",
       "\\item[Asia] 16988\n",
       "\\item[Australia] 2968\n",
       "\\item[Axel Heiberg] 16\n",
       "\\item[Baffin] 184\n",
       "\\end{description*}\n"
      ],
      "text/markdown": [
       "Africa\n",
       ":   11506Antarctica\n",
       ":   5500Asia\n",
       ":   16988Australia\n",
       ":   2968Axel Heiberg\n",
       ":   16Baffin\n",
       ":   184\n",
       "\n"
      ],
      "text/plain": [
       "      Africa   Antarctica         Asia    Australia Axel Heiberg       Baffin \n",
       "       11506         5500        16988         2968           16          184 "
      ]
     },
     "metadata": {},
     "output_type": "display_data"
    },
    {
     "data": {
      "text/html": [
       "<strong>Luzon:</strong> 42"
      ],
      "text/latex": [
       "\\textbf{Luzon:} 42"
      ],
      "text/markdown": [
       "**Luzon:** 42"
      ],
      "text/plain": [
       "Luzon \n",
       "   42 "
      ]
     },
     "metadata": {},
     "output_type": "display_data"
    }
   ],
   "source": [
    "head(islands) # print just a few observations\n",
    "islands[\"Luzon\"]"
   ]
  },
  {
   "cell_type": "code",
   "execution_count": 22,
   "metadata": {},
   "outputs": [
    {
     "data": {
      "text/html": [
       "1252.72916666667"
      ],
      "text/latex": [
       "1252.72916666667"
      ],
      "text/markdown": [
       "1252.72916666667"
      ],
      "text/plain": [
       "[1] 1252.729"
      ]
     },
     "metadata": {},
     "output_type": "display_data"
    }
   ],
   "source": [
    "mean(islands)"
   ]
  },
  {
   "cell_type": "code",
   "execution_count": 23,
   "metadata": {},
   "outputs": [
    {
     "data": {
      "text/html": [
       "16988"
      ],
      "text/latex": [
       "16988"
      ],
      "text/markdown": [
       "16988"
      ],
      "text/plain": [
       "[1] 16988"
      ]
     },
     "metadata": {},
     "output_type": "display_data"
    },
    {
     "data": {
      "text/html": [
       "<strong>Asia:</strong> 3"
      ],
      "text/latex": [
       "\\textbf{Asia:} 3"
      ],
      "text/markdown": [
       "**Asia:** 3"
      ],
      "text/plain": [
       "Asia \n",
       "   3 "
      ]
     },
     "metadata": {},
     "output_type": "display_data"
    }
   ],
   "source": [
    "max(islands)\n",
    "which(islands==max(islands))"
   ]
  },
  {
   "cell_type": "code",
   "execution_count": 24,
   "metadata": {},
   "outputs": [
    {
     "data": {
      "text/html": [
       "<style>\n",
       ".list-inline {list-style: none; margin:0; padding: 0}\n",
       ".list-inline>li {display: inline-block}\n",
       ".list-inline>li:not(:last-child)::after {content: \"\\00b7\"; padding: 0 .5ex}\n",
       "</style>\n",
       "<ol class=list-inline><li>'Africa'</li><li>'Antarctica'</li><li>'Asia'</li><li>'North America'</li><li>'South America'</li></ol>\n"
      ],
      "text/latex": [
       "\\begin{enumerate*}\n",
       "\\item 'Africa'\n",
       "\\item 'Antarctica'\n",
       "\\item 'Asia'\n",
       "\\item 'North America'\n",
       "\\item 'South America'\n",
       "\\end{enumerate*}\n"
      ],
      "text/markdown": [
       "1. 'Africa'\n",
       "2. 'Antarctica'\n",
       "3. 'Asia'\n",
       "4. 'North America'\n",
       "5. 'South America'\n",
       "\n",
       "\n"
      ],
      "text/plain": [
       "[1] \"Africa\"        \"Antarctica\"    \"Asia\"          \"North America\"\n",
       "[5] \"South America\""
      ]
     },
     "metadata": {},
     "output_type": "display_data"
    }
   ],
   "source": [
    "names(islands)[islands>5000]"
   ]
  },
  {
   "cell_type": "code",
   "execution_count": 25,
   "metadata": {},
   "outputs": [
    {
     "name": "stdout",
     "output_type": "stream",
     "text": [
      "       Vancouver           Hainan  Prince of Wales            Timor \n",
      "              12               13               13               13 \n",
      "          Kyushu           Taiwan      New Britain      Spitsbergen \n",
      "              14               14               15               15 \n",
      "    Axel Heiberg         Melville      Southampton Tierra del Fuego \n",
      "              16               16               16               19 \n",
      "           Devon            Banks            Celon \n",
      "              21               23               25 \n"
     ]
    }
   ],
   "source": [
    "z <- sort(islands)\n",
    "print(z[1:15])"
   ]
  },
  {
   "cell_type": "code",
   "execution_count": 26,
   "metadata": {},
   "outputs": [
    {
     "name": "stdout",
     "output_type": "stream",
     "text": [
      "      Britain        Honshu       Sumatra        Baffin    Madagascar \n",
      "           84            89           183           184           227 \n",
      "       Borneo    New Guinea     Greenland     Australia        Europe \n",
      "          280           306           840          2968          3745 \n",
      "   Antarctica South America North America        Africa          Asia \n",
      "         5500          6795          9390         11506         16988 \n"
     ]
    }
   ],
   "source": [
    "out <- z[(length(z)-14):length(z)] \n",
    "print(out)"
   ]
  },
  {
   "cell_type": "code",
   "execution_count": 27,
   "metadata": {},
   "outputs": [
    {
     "name": "stdout",
     "output_type": "stream",
     "text": [
      "         Asia        Africa North America South America    Antarctica \n",
      "        16988         11506          9390          6795          5500 \n",
      "       Europe     Australia     Greenland    New Guinea        Borneo \n",
      "         3745          2968           840           306           280 \n",
      "   Madagascar        Baffin       Sumatra        Honshu       Britain \n",
      "          227           184           183            89            84 \n"
     ]
    }
   ],
   "source": [
    "# Or, alternatively:\n",
    "out <- rev(sort(islands))[1:15]\n",
    "print(out)"
   ]
  },
  {
   "cell_type": "code",
   "execution_count": 28,
   "metadata": {},
   "outputs": [
    {
     "name": "stdout",
     "output_type": "stream",
     "text": [
      "          Africa       Antarctica             Asia        Australia \n",
      "        29800.54         14245.00         43998.92          7687.12 \n",
      "    Axel Heiberg           Baffin            Banks           Borneo \n",
      "           41.44           476.56            59.57           725.20 \n",
      "         Britain          Celebes            Celon             Cuba \n",
      "          217.56           189.07            64.75           111.37 \n",
      "           Devon        Ellesmere           Europe        Greenland \n",
      "           54.39           212.38          9699.55          2175.60 \n",
      "          Hainan       Hispaniola         Hokkaido           Honshu \n",
      "           33.67            77.70            77.70           230.51 \n",
      "         Iceland          Ireland             Java           Kyushu \n",
      "          103.60            85.47           126.91            36.26 \n",
      "           Luzon       Madagascar         Melville         Mindanao \n",
      "          108.78           587.93            41.44            93.24 \n",
      "        Moluccas      New Britain       New Guinea  New Zealand (N) \n",
      "           75.11            38.85           792.54           113.96 \n",
      " New Zealand (S)     Newfoundland    North America    Novaya Zemlya \n",
      "          150.22           111.37         24320.10            82.88 \n",
      " Prince of Wales         Sakhalin    South America      Southampton \n",
      "           33.67            75.11         17599.05            41.44 \n",
      "     Spitsbergen          Sumatra           Taiwan         Tasmania \n",
      "           38.85           473.97            36.26            67.34 \n",
      "Tierra del Fuego            Timor        Vancouver         Victoria \n",
      "           49.21            33.67            31.08           212.38 \n"
     ]
    }
   ],
   "source": [
    "print(islands*2.59) #  recalculate the data to km2 (1 sq mi = 2.59 km2)"
   ]
  },
  {
   "cell_type": "markdown",
   "metadata": {},
   "source": [
    "## 1.8\tLists\n",
    "Lists are ordered collections of other objects, known as components, which do not have to be of the same mode or type. Thus lists can be viewed as very loose groupings of R objects, involving various types of vectors, data frames, arrays, functions and even other lists. \n",
    "\n",
    "Components are numbered and hence can be addressed using their sequence number given in double square brackets, `x[[3]]`. \n",
    "Moreover, components may be named and referenced using an expression of the form `list_name$component_name`. Subsetting is similar to that of other objects, described above.\n",
    "#### list.name <- list(component_name_1=, component_name_2=…) \n",
    "Builds a list with the given components.\n",
    "\n",
    "Here is a simple real-life example of a list definition:"
   ]
  },
  {
   "cell_type": "code",
   "execution_count": 29,
   "metadata": {},
   "outputs": [
    {
     "name": "stdout",
     "output_type": "stream",
     "text": [
      "$ID\n",
      "[1] \"Gbl-4\"\n",
      "\n",
      "$Locality\n",
      "[1] \"Luckovice\"        \"9 km E of Blatna\" \"disused quarry\"  \n",
      "\n",
      "$Rock\n",
      "[1] \"melamonzonite\"\n",
      "\n",
      "$major\n",
      " SiO2  TiO2 Al2O3   FeO   MgO   CaO \n",
      "47.31  1.05 14.94  7.01  8.46 10.33 \n",
      "\n"
     ]
    }
   ],
   "source": [
    "x1 <- c(\"Luckovice\",\"9 km E of Blatna\",\"disused quarry\")\n",
    "x2 <- \"melamonzonite\"\n",
    "x3 <- c(47.31,1.05,14.94,7.01,8.46,10.33)\n",
    "names(x3) <- c(\"SiO2\",\"TiO2\",\"Al2O3\",\"FeO\",\"MgO\",\"CaO\")\n",
    "luc <- list(ID=\"Gbl-4\",Locality=x1,Rock=x2,major=x3)\n",
    "print(luc)"
   ]
  },
  {
   "cell_type": "markdown",
   "metadata": {},
   "source": [
    "As well as some examples of subsetting:"
   ]
  },
  {
   "cell_type": "code",
   "execution_count": 30,
   "metadata": {},
   "outputs": [
    {
     "data": {
      "text/html": [
       "'Gbl-4'"
      ],
      "text/latex": [
       "'Gbl-4'"
      ],
      "text/markdown": [
       "'Gbl-4'"
      ],
      "text/plain": [
       "[1] \"Gbl-4\""
      ]
     },
     "metadata": {},
     "output_type": "display_data"
    }
   ],
   "source": [
    "luc[[1]]"
   ]
  },
  {
   "cell_type": "code",
   "execution_count": 31,
   "metadata": {},
   "outputs": [
    {
     "data": {
      "text/html": [
       "<style>\n",
       ".dl-inline {width: auto; margin:0; padding: 0}\n",
       ".dl-inline>dt, .dl-inline>dd {float: none; width: auto; display: inline-block}\n",
       ".dl-inline>dt::after {content: \":\\0020\"; padding-right: .5ex}\n",
       ".dl-inline>dt:not(:first-of-type) {padding-left: .5ex}\n",
       "</style><dl class=dl-inline><dt>SiO2</dt><dd>47.31</dd><dt>TiO2</dt><dd>1.05</dd><dt>Al2O3</dt><dd>14.94</dd><dt>FeO</dt><dd>7.01</dd><dt>MgO</dt><dd>8.46</dd><dt>CaO</dt><dd>10.33</dd></dl>\n"
      ],
      "text/latex": [
       "\\begin{description*}\n",
       "\\item[SiO2] 47.31\n",
       "\\item[TiO2] 1.05\n",
       "\\item[Al2O3] 14.94\n",
       "\\item[FeO] 7.01\n",
       "\\item[MgO] 8.46\n",
       "\\item[CaO] 10.33\n",
       "\\end{description*}\n"
      ],
      "text/markdown": [
       "SiO2\n",
       ":   47.31TiO2\n",
       ":   1.05Al2O3\n",
       ":   14.94FeO\n",
       ":   7.01MgO\n",
       ":   8.46CaO\n",
       ":   10.33\n",
       "\n"
      ],
      "text/plain": [
       " SiO2  TiO2 Al2O3   FeO   MgO   CaO \n",
       "47.31  1.05 14.94  7.01  8.46 10.33 "
      ]
     },
     "metadata": {},
     "output_type": "display_data"
    }
   ],
   "source": [
    "luc$major # or luc[[3]]\n"
   ]
  },
  {
   "cell_type": "code",
   "execution_count": 32,
   "metadata": {},
   "outputs": [
    {
     "data": {
      "text/html": [
       "'disused quarry'"
      ],
      "text/latex": [
       "'disused quarry'"
      ],
      "text/markdown": [
       "'disused quarry'"
      ],
      "text/plain": [
       "[1] \"disused quarry\""
      ]
     },
     "metadata": {},
     "output_type": "display_data"
    }
   ],
   "source": [
    "luc[[2]][3]"
   ]
  },
  {
   "cell_type": "code",
   "execution_count": 33,
   "metadata": {},
   "outputs": [
    {
     "data": {
      "text/html": [
       "<style>\n",
       ".dl-inline {width: auto; margin:0; padding: 0}\n",
       ".dl-inline>dt, .dl-inline>dd {float: none; width: auto; display: inline-block}\n",
       ".dl-inline>dt::after {content: \":\\0020\"; padding-right: .5ex}\n",
       ".dl-inline>dt:not(:first-of-type) {padding-left: .5ex}\n",
       "</style><dl class=dl-inline><dt>SiO2</dt><dd>47.31</dd><dt>Al2O3</dt><dd>14.94</dd></dl>\n"
      ],
      "text/latex": [
       "\\begin{description*}\n",
       "\\item[SiO2] 47.31\n",
       "\\item[Al2O3] 14.94\n",
       "\\end{description*}\n"
      ],
      "text/markdown": [
       "SiO2\n",
       ":   47.31Al2O3\n",
       ":   14.94\n",
       "\n"
      ],
      "text/plain": [
       " SiO2 Al2O3 \n",
       "47.31 14.94 "
      ]
     },
     "metadata": {},
     "output_type": "display_data"
    }
   ],
   "source": [
    "luc$major[c(\"SiO2\",\"Al2O3\")]"
   ]
  },
  {
   "cell_type": "markdown",
   "metadata": {},
   "source": [
    "## 1.9\tCoercion of individual object types\n",
    "R is generally reasonably good at dealing seamlessly with data types, converting them on the fly when needed. When necessary, there are a series of functions for testing the mode (or type) of an object:\n",
    "`is.numeric(x)`, `is.character(x)`, `is.logical(x)`, `is.matrix(x)`, `is.data.frame(x)`\n",
    "\n",
    "At times there is a need to explicitly convert between data types/modes using functions such as:\n",
    "`as.numeric(x)`, `as.character(x)`, `as.expression(x)`.\n",
    "\n",
    "Less straightforward are:\n",
    "`as.matrix(x)`, `as.data.frame(x)` \n",
    "which attempt to convert an object `x` to a matrix or data frame, respectively. \n",
    "\n",
    "A more user-friendly way of converting data frames to matrices is provided by the function `data.matrix` that converts all the variables in a data frame `x` to numeric mode and then binds them together as the columns of a matrix."
   ]
  },
  {
   "cell_type": "code",
   "execution_count": 34,
   "metadata": {},
   "outputs": [
    {
     "data": {
      "text/html": [
       "3.0888"
      ],
      "text/latex": [
       "3.0888"
      ],
      "text/markdown": [
       "3.0888"
      ],
      "text/plain": [
       "[1] 3.0888"
      ]
     },
     "metadata": {},
     "output_type": "display_data"
    }
   ],
   "source": [
    "as.numeric(\"1.5444\")*2"
   ]
  }
 ],
 "metadata": {
  "kernelspec": {
   "display_name": "R",
   "language": "R",
   "name": "ir"
  },
  "language_info": {
   "codemirror_mode": "r",
   "file_extension": ".r",
   "mimetype": "text/x-r-source",
   "name": "R",
   "pygments_lexer": "r",
   "version": "4.1.2"
  }
 },
 "nbformat": 4,
 "nbformat_minor": 4
}
