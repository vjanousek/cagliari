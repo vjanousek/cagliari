{
 "cells": [
  {
   "cell_type": "markdown",
   "metadata": {},
   "source": [
    "# R syntax in a nutshell – Part IV Graphics\n",
    "* 2.1 Obtaining and annotating binary plots\n",
    "* 2.2 Additional high-level plotting functions\n",
    "* 2.3 Creating custom layouts and axes\n",
    "* 2.4 Exporting graphs from R; graphical devices\n",
    "* 2.5 Interaction with plots"
   ]
  },
  {
   "cell_type": "markdown",
   "metadata": {},
   "source": [
    "A key benefit of using R is the large range of functions for the production and export of (near) publication-quality diagrams. These functions can be divided into two types; **high-level** functions that open a new graphical window and set up a coordinate system of the brand new graph and **low-level** functions that annotate pre-existing plots. Note also that some of the functions (e.g., `curve`) can show both types of behaviour depending on its arguments. "
   ]
  },
  {
   "cell_type": "markdown",
   "metadata": {
    "collapsed": true
   },
   "source": [
    "#### An overview of the selected high-level graphical functions in R\n",
    "<table>\n",
    "    <tr>\n",
    "    <th>Function</th>\n",
    "    <th>Purpose</th>\n",
    "    </tr>\n",
    "    <tr><td>`plot(x,y)`</td><td>binary plot `x` vs. `y` (two numeric vectors)</td></tr>\n",
    "    <tr><td>`curve(expr,from,to)`</td><td>curve specified by `expr` (written as a function of `x`) \n",
    "        in the interval `from–to`</td></tr>\n",
    "    <tr><td>`contour(x,y,z)`</td><td>contour plot (`x` and `y` specify a regular grid, `z` the values)</td></tr>\n",
    "    <tr><td>`filled.contour(x,y,z)`</td><td>filled contour plot (`x` and `y` specify a regular grid, \n",
    "        `z` the values)</td></tr>\n",
    "    <tr><td>`boxplot(x)`</td><td>“box-and-whiskers” plot</td></tr>\n",
    "    <tr><td>`coplot(formula)`</td><td>conditioning plot; \n",
    "        if `formula = y~x|z`, bivariate plots of `x` vs. `y` for each level of the factor `z`</td></tr>\n",
    "    <tr><td>`pairs(x)`</td><td>matrix of all possible bivariate plots between columns of `x` (matrix or data frame)</td></tr>\n",
    "    <tr><td>`hist(x)`</td><td>histogram of frequencies for `x`</td></tr>\n",
    "    <tr><td>`pie(x)`</td><td>circular pie-chart</td></tr>\n",
    "</table>"
   ]
  },
  {
   "cell_type": "markdown",
   "metadata": {},
   "source": [
    "## 2.1 Obtaining and annotating binary plots\n",
    "#### plot() \n",
    "This is a key plotting function. For two numeric vectors, it produces a binary plot [`plot(x,y)`]. If one vector is shorter, it is recycled as appropriate. "
   ]
  },
  {
   "cell_type": "markdown",
   "metadata": {
    "collapsed": false
   },
   "source": [
    "<img src=\"images/symbols.png\" style=\"float:left;width:300px;\">\n",
    "When calling the function `plot`, and indeed many other graphical functions, a number of additional parameters can be specified to modify the appearance of the plot. Some are fairly universal (e.g., `col` or `pch`), but others are restricted or may behave unexpectedly. An overview of the most commonly used graphical parameters is given in Table below. If in doubt, the manual page of the particular plotting function should be consulted; also `?par` gives a useful information. Colours may be arranged into collections called palettes. The codes for available plotting symbols, standard colours and preview of palettes are shown in figures left and below, respectively. \n",
    "\n",
    "<img src=\"images/colours.png\" width=\"400px\">\n",
    "\n",
    "\n",
    "Standard colour codes correspond to `\"black\", \"red\", \"green3\", \"blue\", \"cyan\", \"magenta\", \"yellow\"` and `\"white\"`. Function `colors()` displays all the symbolic names available (657 of them!)."
   ]
  },
  {
   "cell_type": "markdown",
   "metadata": {},
   "source": [
    "####  An overview of the main graphical parameters\n",
    "<table>\n",
    "    <tr>\n",
    "    <th>Parameter</th> <th>Meaning</th> <th>Explanation</th>\n",
    "    </tr>\n",
    "    <tr>\n",
    "        <td>`adj`</td>\n",
    "        <td>text justification relative to the coordinates `[x,y]`</td>\n",
    "        <td>0 – left, 1 – right, 0.5 – centered</td>\n",
    "    </tr>\n",
    "    <tr>\n",
    "        <td>`asp`</td>\n",
    "        <td>aspect ratio of the plot, `y/x`</td>\n",
    "        <td>`asp = 1`</td>\n",
    "    </tr>\n",
    "    <tr>\n",
    "        <td>`axes`</td>\n",
    "        <td>logical, should the axes be drawn?</td>\n",
    "        <td>`axes = FALSE`</td>\n",
    "    </tr>\n",
    "    <tr>\n",
    "        <td>`bg`</td>\n",
    "        <td>background colour</td>\n",
    "        <td>`bg = \"khaki\"`</td>\n",
    "    </tr>\n",
    "    <tr>\n",
    "        <td>`cex`</td>\n",
    "        <td>relative character size expansion (of text or symbols)</td>\n",
    "        <td>`cex = 2`</td>\n",
    "    </tr>\n",
    "    <tr>\n",
    "        <td>`cex.main,cex.sub`</td>\n",
    "        <td>size of plot’s title, subtitle</td>\n",
    "        <td></td>\n",
    "    </tr>\n",
    "    <tr>\n",
    "        <td>`col`</td>\n",
    "        <td>plotting colour</td>\n",
    "        <td>`col = 0, col = \"red\"`</td>\n",
    "    </tr>\n",
    "    <tr>\n",
    "        <td>`las`</td>\n",
    "        <td>style of axis labels</td>\n",
    "        <td>0 – parallel to the axes,1 – horizontal,2 – perpendicular, 3 – vertical</td>\n",
    "    </tr>\n",
    "    <tr>\n",
    "        <td>`log`</td>\n",
    "        <td>which of the axes is/are logarithmic?</td>\n",
    "        <td>`log = \"xy\",log = \"\"`</td>\n",
    "    </tr>\n",
    "    <tr>\n",
    "        <td>`lty`</td>\n",
    "        <td>line type (a number or text string)</td>\n",
    "        <td>`1 – \"solid\", 2 – \"dashed\", 3 – \"dotted\", 4 – \"dotdash\"`</td>\n",
    "    </tr>\n",
    "    <tr>\n",
    "        <td>`lwd`</td>\n",
    "        <td>relative line width</td>\n",
    "        <td>`lwd = 2`</td>\n",
    "    </tr>\n",
    "    <tr>\n",
    "        <td>`main`</td>\n",
    "        <td>main title of the diagram (top)</td>\n",
    "        <td>`main = \"My diagram\"`</td>\n",
    "    </tr>\n",
    "    <tr>\n",
    "        <td>`mar`</td>\n",
    "        <td>outer margins of a plot in lines of text `c(bottom, left, top, right)`</td>\n",
    "        <td>`mar = c(4,4,0,0)`</td>\n",
    "    </tr>\n",
    "    <tr>\n",
    "        <td>`mfcol=c(nr,nc), mfrow=c(nr,nc)`</td>\n",
    "        <td>splits the plotting window into `nr` rows and `nc` columns, the graphs are filled by columns (`mfcol`) \n",
    "            or rows (`mfrow`)</td>\n",
    "        <td>`mfcol = c(2,1), mfrow = c(2,1)`\n",
    "</td>\n",
    "    </tr>\n",
    "    <tr>\n",
    "        <td>`pch`</td>\n",
    "        <td>plotting character; a numeric code or a single alphanumeric symbol </td>\n",
    "        <td>`pch = 7, pch = \"Q\"`</td>\n",
    "    </tr>\n",
    "    <tr>\n",
    "        <td>`pos`</td>\n",
    "        <td>position of the text relative to the coordinates `[x,y]`</td>\n",
    "        <td>1 – below, 2 – left, 3 – above, 4 – right</td>\n",
    "    </tr>\n",
    "    <tr>\n",
    "        <td>`pty`</td>\n",
    "        <td>type of plot region to be used</td>\n",
    "        <td>\"s\" – square, \"m\" – maximal</td>\n",
    "    </tr>\n",
    "    <tr>\n",
    "        <td>`srt`</td>\n",
    "        <td>rotation of the text in degrees</td>\n",
    "        <td>`srt = 90`</td>\n",
    "    </tr>\n",
    "    <tr>\n",
    "        <td>`sub`</td>\n",
    "        <td>subtitle of the diagram (bottom)</td>\n",
    "        <td>`sub = \"for thesis\"`</td>\n",
    "    </tr>\n",
    "    <tr>\n",
    "        <td>`type`</td>\n",
    "        <td>type of the diagram</td>\n",
    "        <td>\"p\" – points, \"l\" – lines, \"b\" – both, \"o\" – overplot, \"n\" – none (no plotting)</td>\n",
    "    </tr>\n",
    "    <tr>\n",
    "        <td>`xaxs, yaxs`</td>\n",
    "        <td>scaling style for axes (default is extended: plotted symbols cannot crash with axes)</td>\n",
    "        <td>\"r\" – extended range, \"i\" – exact scaling</td>\n",
    "    </tr>\n",
    "    <tr>\n",
    "        <td>`xlab, ylab`</td>\n",
    "        <td>labels for x and y axes </td>\n",
    "        <td>`xlab = \"SiO2[wt.%]\"`</td>\n",
    "    </tr>\n",
    "    <tr>\n",
    "        <td>`xlim, ylim`</td>\n",
    "        <td>limits of the x and y axes</td>\n",
    "        <td>`xlim=c(50,70)`</td>\n",
    "    </tr>\n",
    "</table>"
   ]
  },
  {
   "cell_type": "markdown",
   "metadata": {
    "collapsed": true
   },
   "source": [
    "#### An overview of the most useful low-level graphical functions in R\n",
    "<table>\n",
    "    <tr>\n",
    "    <th>Function (basic use)</th> <th>Explanation</th>\n",
    "    </tr>\n",
    "    <tr><td>`points(x,y,type=\"p\")`</td><td>adds extra data points at `[x,y]`</td></tr>\n",
    "    <tr><td>`text(x,y,labels)`</td><td>adds text specified by `labels` at `[x,y]`</td></tr>\n",
    "    <tr><td>`mtext(text,side)`</td><td>places text at margins, outside the plotting region on `side` \n",
    "        (1 = bottom, 2 = left, 3 = top, 4 = right)</td></tr>\n",
    "    <tr><td>`contour(x,y,z,add=TRUE)`</td><td>contour plot (`x` and `y` specify the regular grid, `z` the values)</td></tr>\n",
    "    <tr><td>`lines(x,y,type=\"l\")`</td><td>joins the points with straight line segments</td></tr>\n",
    "    <tr><td>`curve(expr,add=TRUE)`</td><td>adds a curve specified by `expr` (a function of `x`)</td></tr>\n",
    "    <tr><td>`arrows(x0,y0,x1,y1)`</td><td>arrows from `[x0,y0]` to `[x1,y1]`</td></tr>\n",
    "    <tr><td>`abline(a,b)`</td><td>straight line defined by intercept (`a`) and slope (`b`)</td></tr>\n",
    "    <tr><td>`grid(nx,ny=nx)`</td><td>grid with `nx` cells horizontally and `ny` vertically</td></tr>\n",
    "    <tr><td>`rect(xleft,ybottom,xright,ytop)`</td><td>rectangle given left, right, bottom, and top limits</td></tr>\n",
    "    <tr><td>`polygon(x,y)`</td><td>polygons whose vertices are given in `x` and `y`</td></tr>\n",
    "    <tr><td>`axis(side,at,labels)`</td><td>custom axis; `side` = 1 for x, 2 for y; `at` = values to be \n",
    "        annotated by `labels`</td></tr> \n",
    "    <tr><td>`box(which)`</td><td>box around the plotting region (`which` = `\"plot\"`) or \n",
    "        `\"figure\"`, `\"inner\"`, `\"outer\"`</td></tr>\n",
    "    <tr><td>`legend(x,y,legend,lty,lwd,pch)`</td><td>adds a legend at the point `[x,y]`</td></tr>\n",
    "    <tr><td>`title(main,sub,xlab,ylab)`</td><td>main title/subtitle and/or axes labels to the plot</td></tr>\n",
    "</table>"
   ]
  },
  {
   "cell_type": "markdown",
   "metadata": {},
   "source": [
    "#### palette(value)\n",
    "This function serves to view or manipulate a colour palette. The parameter `value` is the name of palette predefined in standard R, followed by the desired number of colours given in brackets. For instance:\n",
    "```R\n",
    "> ee <- palette(heat.colors(5))\n",
    "> ee\n",
    "[1] \"red\"     \"#FF5500\" \"#FFAA00\" \"yellow\"  \"#FFFF80\"\n",
    "```\n",
    "Clearly, the numeric representation above is hexadecimal. \n",
    "\n",
    "#### abline(a = NULL, b = NULL, h = NULL)\n",
    "This command is used to draw a straight line. For instance:\n",
    "```R\n",
    "> abline(a,b)                  # slope b, intercept a\n",
    "> abline(h=y)                  # horizontal line(s)\n",
    "> abline(v=1:5,lty=\"dotted\")   # vertical dotted grid lines\n",
    "```"
   ]
  },
  {
   "cell_type": "markdown",
   "metadata": {},
   "source": [
    "#### text(x, y, labels)\n",
    "This low-level function displays the given text at coordinates `[x,y]`. It is especially useful to label individual data points of the binary diagrams (in combination with the optional `pos` parameter). "
   ]
  },
  {
   "cell_type": "markdown",
   "metadata": {},
   "source": [
    "For example, using data from the calc-alkaline Sázava suite of the Variscan Central Bohemian Plutonic Complex (Janoušek et al. 2004):"
   ]
  },
  {
   "cell_type": "code",
   "execution_count": 13,
   "metadata": {
    "collapsed": false
   },
   "outputs": [],
   "source": [
    "options(repr.plot.width=5, repr.plot.height=5)"
   ]
  },
  {
   "cell_type": "code",
   "execution_count": 14,
   "metadata": {
    "collapsed": false
   },
   "outputs": [
    {
     "data": {
      "image/png": "[encoded data removed]",
      "text/plain": [
       "plot without title"
      ]
     },
     "metadata": {},
     "output_type": "display_data"
    }
   ],
   "source": [
    "sazava  <-  read.table(\"data/sazava.data\",sep=\"\\t\")\n",
    "plot(sazava[,\"SiO2\"],sazava[,\"Ba\"],xlab=\"SiO2\",ylab=\"Ba (ppm)\",pch=\"+\",cex=1.5,col=\"blue\",xlim=c(45,75),xaxs=\"i\")"
   ]
  },
  {
   "cell_type": "code",
   "execution_count": 16,
   "metadata": {
    "collapsed": false
   },
   "outputs": [
    {
     "data": {
      "image/png": "[encoded data removed]",
      "text/plain": [
       "Plot with title \"Sazava\""
      ]
     },
     "metadata": {},
     "output_type": "display_data"
    }
   ],
   "source": [
    "sazava <- read.table(\"data/sazava.data\",sep=\"\\t\")\n",
    "plot(sazava[,\"SiO2\"],sazava[,\"Ba\"],xlab=expression(SiO[2]),cex=1.5,ylab=\"Ba\",pch=16,main=\"Sazava\",xlim=c(45,75))\n",
    "abline(h=seq(0,1500,500),lty=\"dotted\",col=\"gray\")\n",
    "abline(v=seq(40,80,10),lty=\"dotted\",col=\"gray\")\n",
    "text(sazava[,\"SiO2\"],sazava[,\"Ba\"],rownames(sazava),pos=4,col=\"red\")"
   ]
  },
  {
   "cell_type": "markdown",
   "metadata": {},
   "source": [
    "#### grid(nx, ny)\n",
    "A convenience function creating better-looking grids with spacing `nx` and `ny` in the x and y axis directions.\n",
    "#### curve(expr, from = NULL, to = NULL, add = FALSE)\n",
    "A function for adding a curve (if `add = TRUE`) specified by an expression (`expr`; written as a function of x). \n",
    "Optionally, the range of the x axis can be also set, using the parameters `from` and `to`. For example:"
   ]
  },
  {
   "cell_type": "code",
   "execution_count": 19,
   "metadata": {
    "collapsed": false
   },
   "outputs": [
    {
     "data": {
      "image/png": "[encoded data removed]",
      "text/plain": [
       "plot without title"
      ]
     },
     "metadata": {},
     "output_type": "display_data"
    }
   ],
   "source": [
    "saz <- read.table(\"data/sazava.data\",sep=\"\\t\")\n",
    "plot(saz[,\"Rb\"],saz[,\"Sr\"],xlab=\"Rb (ppm)\",ylab=\"Sr (ppm)\",pch=saz[,\"Symbol\"],cex=2,xlim=c(0,70),ylim=c(0,650),xaxs=\"i\",yaxs=\"i\") \n",
    "abline(0,5, col=\"red\",lwd=1.5,lty=\"dashed\")\n",
    "curve(x^2,add=TRUE,col=\"blue\",lwd=1.5,lty=\"dotted\",from=0,to=20)"
   ]
  },
  {
   "cell_type": "markdown",
   "metadata": {},
   "source": [
    "#### lm(formula)\n",
    "A function for fitting linear models. The simplest form of formula is `y~x`, i.e. y as a function of x, performing a linear regression. To see details of the object generated, use the function `summary`. Note that `abline` has a method for plotting thus generated linear fits."
   ]
  },
  {
   "cell_type": "markdown",
   "metadata": {},
   "source": [
    "Continuing our previous example, we can also produce a linear fit, and assign the result to an arbitrary variable `ee`:"
   ]
  },
  {
   "cell_type": "code",
   "execution_count": 20,
   "metadata": {
    "collapsed": false
   },
   "outputs": [
    {
     "data": {
      "text/plain": [
       "\n",
       "Call:\n",
       "lm(formula = saz[, \"Sr\"] ~ saz[, \"Rb\"])\n",
       "\n",
       "Coefficients:\n",
       "(Intercept)  saz[, \"Rb\"]  \n",
       "    253.271        3.684  \n"
      ]
     },
     "metadata": {},
     "output_type": "display_data"
    }
   ],
   "source": [
    "ee <- lm(saz[,\"Sr\"]~saz[,\"Rb\"])\n",
    "ee"
   ]
  },
  {
   "cell_type": "markdown",
   "metadata": {},
   "source": [
    "and the object `ee` is ready to be plotted by the function `abline`:"
   ]
  },
  {
   "cell_type": "code",
   "execution_count": 21,
   "metadata": {
    "collapsed": false
   },
   "outputs": [
    {
     "data": {
      "image/png": "[encoded data removed]",
      "text/plain": [
       "plot without title"
      ]
     },
     "metadata": {},
     "output_type": "display_data"
    }
   ],
   "source": [
    "plot(saz[,\"Rb\"],saz[,\"Sr\"],xlab=\"Rb (ppm)\",ylab=\"Sr (ppm)\",pch=saz[,\"Symbol\"],cex=2,xlim=c(0,70),ylim=c(0,650),xaxs=\"i\",yaxs=\"i\") \n",
    "abline(ee,lwd=2,lty=\"dashed\",col=\"blue\")"
   ]
  },
  {
   "cell_type": "markdown",
   "metadata": {},
   "source": [
    "If we want to know the details, we can display the whole list `ee` using:"
   ]
  },
  {
   "cell_type": "code",
   "execution_count": null,
   "metadata": {
    "collapsed": false
   },
   "outputs": [],
   "source": [
    "summary(ee)"
   ]
  },
  {
   "cell_type": "markdown",
   "metadata": {},
   "source": [
    "#### points(x, y, type = \"p\")\n",
    "Function `points` adds new data points with coordinates `[x,y]` to an existing plot. The argument `type` controls how they are displayed (as points, lines, etc.). \n",
    "#### lines(x, y)\n",
    "Draws straight line segments; `x` and `y` are vectors of corresponding coordinates.\n",
    "#### legend(x, y = NULL, legend, fill = NULL, col, pch, lty, lwd, inset = 0) \n",
    "Adds a legend at `[x,y]`. If `y = NULL`, the position (`x`) can be specified by a single keyword such as `\"bottomright\"` or `\"center\"`. The explanatory text is given by a character vector `legend`; the attributes for the symbols can be `fill` (colours to fill boxes), `pch` (plotting characters), `col` (colours of plotting characters or lines), `lty` (line types) or `lwd` (line widths). The numeric argument `inset` defines a distance from the margins as a fraction of the plot region size."
   ]
  },
  {
   "cell_type": "markdown",
   "metadata": {},
   "source": [
    "## 2.2\tAdditional high-level plotting functions\n",
    "Here we show examples of the most useful of the other high-level functions for plotting boxplots, correlation matrices, histograms and such alike (see a Table above).\n",
    "#### boxplot(x)\n",
    "Creates a “box-and-whiskers” plot, i.e. a diagram, in which each variable (column of a data frame/matrix `x`) is represented by a rectangle (its horizontal sides correspond to the 1st and 3rd quartiles, a horizontal line denotes a median). Two vertical lines join thr extremes (minimum and maximum); outliers, if any,  are plotted as tiny circles."
   ]
  },
  {
   "cell_type": "code",
   "execution_count": null,
   "metadata": {
    "collapsed": false
   },
   "outputs": [],
   "source": [
    "sazava <- read.table(\"data/sazava.data\",sep=\"\\t\")\n",
    "oxides <- c(\"MgO\",\"CaO\",\"Na2O\",\"K2O\")\n",
    "summary(sazava[,oxides])\n",
    "boxplot(sazava[,oxides],col=c(\"khaki\",\"gray\",\"red\",\"blue\"))"
   ]
  },
  {
   "cell_type": "markdown",
   "metadata": {},
   "source": [
    "#### pairs(x)\n",
    "A scatterplot matrix for all possible combinations of columns in matrix `x`:"
   ]
  },
  {
   "cell_type": "code",
   "execution_count": null,
   "metadata": {
    "collapsed": false
   },
   "outputs": [],
   "source": [
    "sazava <- read.table(\"data/sazava.data\",sep=\"\\t\")\n",
    "oxides <- c(\"MgO\",\"CaO\",\"Na2O\",\"K2O\")\n",
    "pairs(sazava[,oxides],pch=15,col=\"darkred\")"
   ]
  },
  {
   "cell_type": "markdown",
   "metadata": {},
   "source": [
    "#### hist(x)\n",
    "Produces a histogram of frequencies of the vector `x`:"
   ]
  },
  {
   "cell_type": "code",
   "execution_count": null,
   "metadata": {
    "collapsed": false
   },
   "outputs": [],
   "source": [
    "sazava <- read.table(\"data/sazava.data\",sep=\"\\t\")\n",
    "hist(sazava[,\"Sr\"],xlab=\"Sr\",ylab=\"frequency\",xlim=c(100,700),col=\"darkred\",density=5,angle=45)\n",
    "box()"
   ]
  },
  {
   "cell_type": "markdown",
   "metadata": {},
   "source": [
    "#### coplot(y~x|z)\n",
    "Conditioning plot; in this form it displays a set of bivariate plots of `x` vs. `y` for each level of the factor `z`."
   ]
  },
  {
   "cell_type": "code",
   "execution_count": null,
   "metadata": {
    "collapsed": false
   },
   "outputs": [],
   "source": [
    "sazava <- read.table(\"data/sazava.data\",sep=\"\\t\")\n",
    "coplot(sazava[,\"CaO\"]~ sazava[,\"SiO2\"]| sazava[,\"Intrusion\"],cex=1.5,xlab=expression(SiO[2]),\n",
    "       ylab=\"CaO\",pch=sazava[,\"Symbol\"],col=sazava[,\"Colour\"])"
   ]
  },
  {
   "cell_type": "markdown",
   "metadata": {},
   "source": [
    "#### contour(z, add = FALSE)\n",
    "Creates a contour plot, or adds contour lines to a pre-existing plot (if `add = TRUE`) based on a data matrix `z`. \n",
    "The data must be prepared beforehand in a regular grid as the function does not perform any interpolation such as kriging. In this form, both coordinates are normalized from 0 to 1. The real ones can be provided by the optional arguments `x` and `y`.\n",
    "\n",
    "A simple use will be demonstrated on isohypses of the Maunga Whau volcano, New Zealand, as given in the `volcano` dataset (see `?volcano`):"
   ]
  },
  {
   "cell_type": "code",
   "execution_count": null,
   "metadata": {
    "collapsed": false
   },
   "outputs": [],
   "source": [
    "data(volcano)\n",
    "contour(volcano,col=\"blue\")"
   ]
  },
  {
   "cell_type": "markdown",
   "metadata": {},
   "source": [
    "#### filled.contour(z, color.palette = cm.colors)\n",
    "Creates a filled contour plot, in which the values of `z` are represented by individual colours from the `color.palette`. Here is another example using the `volcano` dataset:"
   ]
  },
  {
   "cell_type": "code",
   "execution_count": null,
   "metadata": {
    "collapsed": false
   },
   "outputs": [],
   "source": [
    "data(volcano)\n",
    "filled.contour(volcano,color.palette=terrain.colors,asp=1)"
   ]
  },
  {
   "cell_type": "markdown",
   "metadata": {},
   "source": [
    "## 2.3\tCreating custom layouts and axes\n",
    "In order to gain more control of the plotting window, one should use the graphical parameters function `par` to create multifigure plots and the `axis` function to fine-tune style and placement of axes.\n",
    "#### par(mfrow = c(nrow, ncol))\n",
    "#### par(mfcol = c(nrow, ncol))\n",
    "Creates multifigure layouts by splitting the graphical window into a matrix of `nrow` × `ncol` plotting regions to be sequentially filled by plotted graphs (row-wise — `mfrow` or column-wise — `mfcol`).\n",
    "Arbitrary sized plotting regions can be configured using the `fig` option to `par`.\n",
    "#### axis (side, at, labels)\n",
    "The `plot` function can be called with a parameter `axes = FALSE` such that no axes are drawn. This is a prelude to the command `axis`, defining a custom axes layout. The arguments are `side` = 1 for bottom (x), 2 left (y), 3 top, 4 right; `at` – a vector with values to be labelled; `labels` – character vector with the textual labels. For example:"
   ]
  },
  {
   "cell_type": "code",
   "execution_count": null,
   "metadata": {
    "collapsed": false
   },
   "outputs": [],
   "source": [
    "plot(1,1,xlim=c(0,3),ylim=c(-1,1),axes=FALSE,xlab=\"custom X\",ylab=\"custom Y\",type=\"n\")\n",
    "axis(1,0:3,c(\"A\",\"B\",\"C\",\"D\"))\n",
    "axis(2,-1:1,c(\"I\",\"II\",\"III\"))\n",
    "box()"
   ]
  },
  {
   "cell_type": "markdown",
   "metadata": {},
   "source": [
    "## 2.4\tExporting graphs from R; graphical devices \n",
    "<img src=\"images/raster.png\" style=\"float:left;width:580px;\">\n",
    "\n",
    "<img src=\"images/vector.png\" style=\"float:left;width:580px;\">\n",
    "Graphs can be exported to a word processor, a desktop publishing (DTP) or a graphical package (e.g. Adobe Illustrator or CorelDraw!) for further editing. They can be copied to the Clipboard or saved into a file by right-clicking the graphical window and selecting `Save as…`. \n",
    "\n",
    "Alternatively, corresponding items in the menu `File` of the graphical window can be invoked. There is a wealth of formats to choose from, including the most popular vector (PostScript, PDF, WMF) and bitmap (TIF, PNG, BMP, JPG) ones. Of course, for further editing or publishing, vector formats are to be preferred. \n",
    "\n",
    "**NB** that PostScript and the PDF files are generated in a quality superior to the Windows Metafiles (WMF) format.\n",
    "\n",
    "#### Bitmaps (raster graphics)\n",
    "* Formed by individual pixels\n",
    "* Each is assigned a colour (or grey shade)\n",
    "* Produced typically by cameras or scanners\n",
    "\n",
    "#### Vector graphics\n",
    "* Consists of objects that can be described mathematically\n",
    "* Always newly recalculated\n",
    "* Attributes: ink, fill colours, line thickness… \n",
    "* Good for high-quality printing, output to plotters – technical illustrations, graphs, maps etc. \n",
    "* Inappropriate for photographs"
   ]
  },
  {
   "cell_type": "markdown",
   "metadata": {},
   "source": [
    "#### Advantages of the vector graphics\n",
    "* Saves memory,\n",
    "* Produces small files,\n",
    "* Is always printed at the maximum resolution of the given output device,\n",
    "* Easy to transform (magnification, translation, mirror, rotation...), \n",
    "* Easy to change the attributes of individual objects (colour, line type, line thickness...), \n",
    "* Text can be edited and searched, proofreading tools can be used etc. "
   ]
  },
  {
   "cell_type": "markdown",
   "metadata": {},
   "source": [
    "#### Selected devices available in R\n",
    "As a useful alternative, the graphical output can be redirected to one of the many supported graphical devices:\n",
    "<table>\n",
    "    <tr>\n",
    "    <th>Function</th> <th>Description</th> <th>Graphics type</th>\n",
    "    </tr>\n",
    "    <tr><td>`windows()`</td><td>a graphical window (Windows)</td><td>–</td></tr>\n",
    "    <tr><td>`quartz()`</td><td>a graphical window (Mac OS X)</td><td>–</td></tr>\n",
    "    <tr><td>`x11()`</td><td>a graphical window (Linux)</td><td>–</td></tr>\n",
    "    <tr><td>`postscript(file)`</td><td>PostScript (see also `?ps.options`)</td><td>Vector</td></tr>\n",
    "    <tr><td>`pdf(file)`</td><td>Adobe PDF (Portable Document Format) (see also `?pdf.options`)</td><td>Vector</td></tr> \n",
    "    <tr><td>`win.metafile(filename)`</td><td>Windows Metafile (WMF)</td><td>Vector</td></tr> \n",
    "    <tr><td>`png(filename)`</td><td>bitmap (lossless compression, less common))</td><td>Raster</td></tr> \n",
    "    <tr><td>`tiff(filename)`</td><td>bitmap (lossless uncompressed, widely accepted)</td><td>Raster</td></tr> \n",
    "    <tr><td>`jpeg(filename)`</td><td>bitmap (lossy compression, small files)</td><td>Raster</td></tr> \n",
    "</table>\n",
    "\n",
    "\n",
    "See `?grDevices` for details and complete list."
   ]
  },
  {
   "cell_type": "markdown",
   "metadata": {},
   "source": [
    "#### dev.off()\n",
    "Close the current graphical window.\n",
    "#### graphics.off()\n",
    "Close all the opened graphical windows."
   ]
  },
  {
   "cell_type": "markdown",
   "metadata": {},
   "source": [
    "## 2.5\tInteraction with plots\n",
    "The ability to interact with graphics makes it possible, for instance, to select outliers and label them with sample names. Or one can pick samples for further processing, such as setting end members for numerical modelling. Clearly these functions are only useful for interactive plotting devices.\n",
    "#### locator()\n",
    "The `locator` returns the coordinates of one or more points clicked on by the left mouse button. Identification is stopped by pressing the right mouse button and selecting `Stop`. \n",
    "#### identify(x, y, labels)\n",
    "This function annotates the plot with `labels` for each given coordinate pair `[x,y]`. Usually only useful when there are a small number of data points.\n",
    "\n",
    "```R\n",
    "> sazava<-read.table(\"data/sazava.data\",sep=\"\\t\")\n",
    "> plot(sazava[,\"Rb\"],sazava[,\"Sr\"],xlab=\"Rb\",ylab=\"Sr\",pch=sazava[,\"Symbol\"],cex=2,xlim=c(0,70),ylim=c(0,650)) \n",
    "> identify(sazava[,\"Rb\"],sazava[,\"Sr\"],rownames(sazava))\n",
    "> locator()\n",
    "```"
   ]
  },
  {
   "cell_type": "code",
   "execution_count": null,
   "metadata": {
    "collapsed": true
   },
   "outputs": [],
   "source": []
  }
 ],
 "metadata": {
  "kernelspec": {
   "display_name": "R",
   "language": "R",
   "name": "ir"
  },
  "language_info": {
   "codemirror_mode": "r",
   "file_extension": ".r",
   "mimetype": "text/x-r-source",
   "name": "R",
   "pygments_lexer": "r",
   "version": "3.4.3"
  }
 },
 "nbformat": 4,
 "nbformat_minor": 0
}
