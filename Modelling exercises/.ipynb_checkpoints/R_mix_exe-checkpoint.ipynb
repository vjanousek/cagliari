{
 "cells": [
  {
   "cell_type": "markdown",
   "metadata": {},
   "source": [
    "<img src=\"images/mixer.png\" style=\"float:right;width:150px;\"> \n",
    "# Binary mixing"
   ]
  },
  {
   "cell_type": "code",
   "execution_count": null,
   "metadata": {
    "collapsed": true
   },
   "outputs": [],
   "source": [
    "options(repr.plot.width=4.5, repr.plot.height=4.5) # Size for the Jupyter plot (inches)"
   ]
  },
  {
   "cell_type": "markdown",
   "metadata": {},
   "source": [
    "### 21.2: Major-elements based mixing test\n",
    "<img src=\"images/exercise-icon.png\" style=\"float:left;width:40px;height:40px;\">\n",
    "In the Variscan Central Bohemian Plutonic Complex, Amp and Cpx-bearing monzonites and monzogabbros are associated with the Kozárovice granodiorite (Janoušek et al. 2000). In addition, the granodiorite contains small net-veined bodies and enclaves of Bt–Amp quartz monzonite.\n",
    "\n",
    "<div style=\"text-align: right\"> \n",
    "<img src=\"images/floppy.png\" style=\"float:right;width:30px;height:30px;\">\n",
    "kozamix.data </div>\n",
    "<br style=\"clear: both;\" />"
   ]
  },
  {
   "cell_type": "markdown",
   "metadata": {},
   "source": [
    "* Test whether the quartz monzonite (M) could correspond to a hybrid between granodiorite (1) and monzogabbro (2).\n",
    "* Determine the proportion of granodiorite in the mixture."
   ]
  },
  {
   "cell_type": "code",
   "execution_count": null,
   "metadata": {},
   "outputs": [],
   "source": [
    "x <- read.table(\"data/kozamix.data\",sep=\"\\t\")\n",
    "print(x)\n",
    "\n",
    "mix1 <- x[,1]-x[,3]                                     # C1-C2, x-coordinate\n",
    "mix2 <- x[,2]-x[,3]                                     # CM-C2, y-coordinate\n",
    "plot(mix1,mix2,xlim=c(-10,16),ylim=c(-10,16),pch=16,cex.lab=1.3,xlab=expression(C[1]-C[2]),ylab=expression(C[M]-C[2]))\n",
    "abline(h=0)                                             # horizontal line through 0\n",
    "abline(v=0)                                             # vertical line\n",
    "text(mix1,mix2,rownames(x),adj=c(1,0),pos=3,cex=0.7)    # label by oxide names\n",
    "lq <- lsfit(mix1,mix2,intercept=FALSE)                  # calculate least squares\n",
    "abline(lq,lty=\"dashed\")                                 # plot the best fit line\n",
    "print(lq$coeff)                                         # slope = f1 [Eq. (21.13)]"
   ]
  },
  {
   "cell_type": "markdown",
   "metadata": {},
   "source": [
    "### 18.1: Single isotopic ratio (direct mixing)\n",
    "<img src=\"images/exercise-icon.png\" style=\"float:left;width:40px;height:40px;\">\n",
    "During its ascent, a basaltic magma is contaminated by a host-rock schist.\n",
    "\n",
    "| |A: schist|B: basalt|\n",
    "|-----------|------------|\n",
    "|Sr|150 ppm|600 ppm|\n",
    "|<SUP>87</SUP>Sr/<SUP>86</SUP>Sr|0.715|0.703|"
   ]
  },
  {
   "cell_type": "markdown",
   "metadata": {},
   "source": [
    "* Plot a theoretical mixing hyperbola between basalt and schist in the Sr–<SUP>87</SUP>Sr/<SUP>86</SUP>Sr and 1/Sr–<SUP>87</SUP>Sr/<SUP>86</SUP>Sr diagrams for 5% mixing increments.\n",
    "* Calculate the <SUP>87</SUP>Sr/<SUP>86</SUP>Sr ratio in a mixture containing 20 % of the schist.\n",
    "* Determine the proportion of schist in the mixture that has <SUP>87</SUP>Sr/<SUP>86</SUP>Sr = 0.710."
   ]
  },
  {
   "cell_type": "code",
   "execution_count": null,
   "metadata": {},
   "outputs": [],
   "source": [
    "c1<- 150; i1 <- 0.715                           # schist composition\n",
    "c2 <- 600; i2 <- 0.703                          # basalt composition\n",
    "\n",
    "# Plot mixing\n",
    "f1 <- seq(0,1,by=0.05)                          # proportions of schist in mixture\n",
    "cm <- c1*f1+(1-f1)*c2\n",
    "names(cm) <- f1                                 # conc. in mix [Eq.(16.2)]\n",
    "im <- i1*c1*f1/cm+i2*c2*(1-f1)/cm               # 87Sr/86Sr in mix [Eq. (16.1)]\n",
    "srlab <- expression(\"\"^87*Sr/\"\"^86*Sr)\n",
    "plot(cm,im,xlab=\"Sr (ppm)\",ylab=srlab,type=\"b\",pch=19)\n",
    "plot(1/cm,im,xlab=\"1/Sr (ppm)\",ylab=srlab,type=\"b\",pch=19)\n",
    "\n",
    "#Calculate 20% mixing\n",
    "f1 <- 0.2                                       # mixing proportion\n",
    "im <- (i1*c1*f1+i2*c2*(1-f1))/(c1*f1+c2*(1-f1)) # 87Sr/86Sr [Eq. (16.3)] \n",
    "print(im)\n",
    "\n",
    "#Calculate mixing proportion (reverse task)\n",
    "im <- 0.710 #87Sr/86Sr of the mixture\n",
    "f1 <- c2*(i2-im)/(im*(c1-c2)-i1*c1+i2*c2)      # calc. f1 [Eq.(16.5)]\n",
    "print(f1)"
   ]
  },
  {
   "cell_type": "markdown",
   "metadata": {},
   "source": [
    "### 18.2: Pair of isotopic ratios (direct mixing)\n",
    "<img src=\"images/exercise-icon.png\" style=\"float:left;width:40px;height:40px;\">\n",
    "A basaltic magma is contaminated by a host-rock schist. However, here, both Sr and Nd isotopic data are available.\n",
    "\n",
    "| |A: schist|B: basalt|\n",
    "|-----------|------------|\n",
    "|Sr|150 ppm|600 ppm|\n",
    "|<SUP>87</SUP>Sr/<SUP>86</SUP>Sr|0.715|0.703|\n",
    "|Nd|20 ppm|2 ppm|\n",
    "|<SUP>143</SUP>Nd/<SUP>144</SUP>Nd|0.511|0.513|"
   ]
  },
  {
   "cell_type": "markdown",
   "metadata": {
    "collapsed": true
   },
   "source": [
    "* Calculate the Sr (ppm), <SUP>87</SUP>Sr/<SUP>86</SUP>Sr, Nd (ppm) and <SUP>143</SUP>Nd/<SUP>144</SUP>Nd of mixtures containing 0, 5, 10, … 100 % of the schist; print the result in a table. \n",
    "* Plot a theoretical mixing hyperbola in the <SUP>87</SUP>Sr/<SUP>86</SUP>Sr – <SUP>143</SUP>Nd/<SUP>144</SUP>Nd space.\n",
    "* Calculate and plot the asymptotes."
   ]
  },
  {
   "cell_type": "code",
   "execution_count": null,
   "metadata": {},
   "outputs": [],
   "source": [
    "cx1 <- 150; cy1 <- 600          # Sr, schist and basalt\n",
    "ix1 <- 0.715; iy1 <- 0.703      # 87Sr/86Sr, schist and basalt\n",
    "f1 <- seq(0,1,by=0.05)          # prop. of schist in mixture\n",
    "cm1 <- cx1*f1+(1-f1)*cy1        # Sr conc. mix [Eq. (16.2)]\n",
    "im1 <- ix1*cx1*f1/cm1+iy1*cy1*(1-f1)/cm1\n",
    "cx2 <- 20; cy2 <- 2             # Nd in schist and basalt\n",
    "ix2 <- 0.511; iy2 <- 0.513      # 143Nd/144Nd, schist/basalt\n",
    "cm2 <- cx2*f1+(1-f1)*cy2        # Nd conc., mix [Eq. (16.2)]\n",
    "im2 <- ix2*cx2*f1/cm2+iy2*cy2*(1-f1)/cm2\n",
    "\n",
    "# Prepare results table\n",
    "res <- cbind(cm1,im1,cm2,im2)\n",
    "rownames(res) <- f1\n",
    "colnames(res) <- c(\"Sr\",\"87Sr/86Sr\",\"Nd\",\"143Nd/144Nd\")\n",
    "head(res)\n",
    "tail(res)"
   ]
  },
  {
   "cell_type": "code",
   "execution_count": null,
   "metadata": {},
   "outputs": [],
   "source": [
    "# Plot the mixing hyperbola\n",
    "plot(im1,im2,xlab=expression(\"\"^87*Sr/\"\"^86*Sr),\n",
    "ylab=expression(\"\"^143*Nd/\" \"^144*Nd),type=\"b\",\n",
    "xlim=c(0.7023,0.7152),ylim=c(0.5109,0.5131),pch=19)\n",
    "\n",
    "# Calculate and plot asymptotes\n",
    "alpha <- (cy1/cy2)/(cx1/cx2)    # calc. alpha [Eq. (16.8)]\n",
    "x0 <- (ix1-alpha*iy1)/(1-alpha) # calc. asymptotes [Eq. (16.14)]\n",
    "y0 <- (iy2-alpha*ix2)/(1-alpha) \n",
    "print(x0)\n",
    "print(y0)\n",
    "\n",
    "# draw the asymptotes\n",
    "abline(v=x0,lty=\"dashed\")       \n",
    "abline(h=y0,lty=\"dashed\")"
   ]
  },
  {
   "cell_type": "markdown",
   "metadata": {},
   "source": [
    "**References**\n",
    "\n",
    "Janoušek V, Bowes DR, Braithwaite CJR, Rogers G (2000) Microstructural and mineralogical evidence for limited involvement of magma mixing in the petrogenesis of a Hercynian high-K calc-alkaline intrusion: the Kozárovice granodiorite, Central Bohemian Pluton, Czech Republic. Trans Roy Soc Edinb, Earth Sci 91:15-26"
   ]
  }
 ],
 "metadata": {
  "kernelspec": {
   "display_name": "R",
   "language": "R",
   "name": "ir"
  },
  "language_info": {
   "codemirror_mode": "r",
   "file_extension": ".r",
   "mimetype": "text/x-r-source",
   "name": "R",
   "pygments_lexer": "r",
   "version": "3.4.3"
  }
 },
 "nbformat": 4,
 "nbformat_minor": 1
}
