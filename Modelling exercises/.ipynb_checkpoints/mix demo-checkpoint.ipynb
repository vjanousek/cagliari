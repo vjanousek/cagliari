{
 "cells": [
  {
   "cell_type": "markdown",
   "metadata": {},
   "source": [
    "<img src=\"images/mixer.png\" style=\"float:right;width:150px;\"> \n",
    "# Binary mixing"
   ]
  },
  {
   "cell_type": "code",
   "execution_count": 3,
   "metadata": {
    "collapsed": true
   },
   "outputs": [],
   "source": [
    "options(repr.plot.width=3, repr.plot.height=3) # Size for the Jupyter plot (inches)"
   ]
  },
  {
   "cell_type": "markdown",
   "metadata": {},
   "source": [
    "### 21.2: Major-elements based mixing test\n",
    "<img src=\"images/exercise-icon.png\" style=\"float:left;width:40px;height:40px;\">\n",
    "In the Variscan Central Bohemian Plutonic Complex, Amp and Cpx-bearing monzonites and monzogabbros are associated with the Kozárovice granodiorite (Janoušek et al. 2000). In addition, the granodiorite contains small net-veined bodies and enclaves of Bt–Amp quartz monzonite.\n",
    "\n",
    "<div style=\"text-align: right\"> \n",
    "<img src=\"images/floppy.png\" style=\"float:right;width:30px;height:30px;\">\n",
    "kozamix.data </div>\n",
    "<br style=\"clear: both;\" />"
   ]
  },
  {
   "cell_type": "markdown",
   "metadata": {},
   "source": [
    "* Test whether the quartz monzonite (M) could correspond to a hybrid between granodiorite (1) and monzogabbro (2).\n",
    "* Determine the proportion of granodiorite in the mixture."
   ]
  },
  {
   "cell_type": "code",
   "execution_count": 8,
   "metadata": {},
   "outputs": [
    {
     "name": "stdout",
     "output_type": "stream",
     "text": [
      "         X1     M    X2\n",
      "SiO2  64.60 59.58 49.21\n",
      "TiO2   0.57  0.72  1.02\n",
      "Al2O3 14.99 14.80 13.69\n",
      "FeO    2.79  4.08  6.96\n",
      "Fe2O3  1.27  1.69  2.47\n",
      "MnO    0.08  0.14  0.15\n",
      "MgO    2.37  4.11  8.53\n",
      "CaO    3.44  5.33  9.74\n",
      "Na2O   3.12  2.84  1.89\n",
      "K2O    4.34  4.19  3.61\n",
      "        X \n",
      "0.6841038 \n"
     ]
    },
    {
     "data": {
      "image/png": "[encoded data removed]",
      "text/plain": [
       "plot without title"
      ]
     },
     "metadata": {},
     "output_type": "display_data"
    }
   ],
   "source": [
    "x <- read.table(\"data/kozamix.data\",sep=\"\\t\")\n",
    "print(x)\n",
    "\n",
    "mix1 <- x[,1]-x[,3]                                     # C1-C2, x-coordinate\n",
    "mix2 <- x[,2]-x[,3]                                     # CM-C2, y-coordinate\n",
    "plot(mix1,mix2,xlim=c(-10,16),ylim=c(-10,16),pch=16,cex.lab=1.3,xlab=expression(C[1]-C[2]),ylab=expression(C[M]-C[2]))\n",
    "abline(h=0)                                             # horizontal line through 0\n",
    "abline(v=0)                                             # vertical line\n",
    "text(mix1,mix2,rownames(x),adj=c(1,0),pos=3,cex=0.7)    # label by oxide names\n",
    "lq <- lsfit(mix1,mix2,intercept=FALSE)                  # calculate least squares\n",
    "abline(lq,lty=\"dashed\")                                 # plot the best fit line\n",
    "print(lq$coeff)                                         # slope = f1 [Eq. (21.13)]"
   ]
  },
  {
   "cell_type": "markdown",
   "metadata": {},
   "source": [
    "### 18.1: Single isotopic ratio (direct mixing)\n",
    "<img src=\"images/exercise-icon.png\" style=\"float:left;width:40px;height:40px;\">\n",
    "During its ascent, a basaltic magma is contaminated by a host-rock schist.\n",
    "\n",
    "| |A: schist|B: basalt|\n",
    "|-----------|------------|\n",
    "|Sr|150 ppm|600 ppm|\n",
    "|<SUP>87</SUP>Sr/<SUP>86</SUP>Sr|0.715|0.703|"
   ]
  },
  {
   "cell_type": "markdown",
   "metadata": {},
   "source": [
    "* Plot a theoretical mixing hyperbola between basalt and schist in the Sr–<SUP>87</SUP>Sr/<SUP>86</SUP>Sr and 1/Sr–<SUP>87</SUP>Sr/<SUP>86</SUP>Sr diagrams for 5% mixing increments.\n",
    "* Calculate the <SUP>87</SUP>Sr/<SUP>86</SUP>Sr ratio in a mixture containing 20 % of the schist.\n",
    "* Determine the proportion of schist in the mixture that has <SUP>87</SUP>Sr/<SUP>86</SUP>Sr = 0.710."
   ]
  },
  {
   "cell_type": "code",
   "execution_count": 16,
   "metadata": {},
   "outputs": [
    {
     "data": {
      "image/png": "[encoded data removed]",
      "text/plain": [
       "plot without title"
      ]
     },
     "metadata": {},
     "output_type": "display_data"
    },
    {
     "name": "stdout",
     "output_type": "stream",
     "text": [
      "[1] 0.7037059\n",
      "[1] 0.8484848\n"
     ]
    },
    {
     "data": {
      "image/png": "[encoded data removed]",
      "text/plain": [
       "plot without title"
      ]
     },
     "metadata": {},
     "output_type": "display_data"
    }
   ],
   "source": [
    "c1 <- 150; i1 <- 0.715                          # schist composition\n",
    "c2 <- 600; i2 <- 0.703                          # basalt composition\n",
    "\n",
    "# Plot mixing\n",
    "f1 <- seq(0,1,by=0.05)                          # proportions of schist in mixture\n",
    "cm <- c1*f1+(1-f1)*c2\n",
    "names(cm) <- f1                                 # conc. in mix [Eq.(16.2)]\n",
    "im <- i1*c1*f1/cm+i2*c2*(1-f1)/cm               # 87Sr/86Sr in mix [Eq. (16.1)]\n",
    "srlab <- expression(\"\"^87*Sr/\"\"^86*Sr)\n",
    "plot(cm,im,xlab=\"Sr (ppm)\",ylab=srlab,type=\"b\",pch=19)\n",
    "plot(1/cm,im,xlab=\"1/Sr (ppm)\",ylab=srlab,type=\"b\",pch=19)"
   ]
  },
  {
   "cell_type": "markdown",
   "metadata": {},
   "source": [
    "### 18.2: Pair of isotopic ratios (direct mixing)\n",
    "<img src=\"images/exercise-icon.png\" style=\"float:left;width:40px;height:40px;\">\n",
    "A basaltic magma is contaminated by a host-rock schist. However, here, both Sr and Nd isotopic data are available.\n",
    "\n",
    "| |A: schist|B: basalt|\n",
    "|-----------|------------|\n",
    "|Sr|150 ppm|600 ppm|\n",
    "|<SUP>87</SUP>Sr/<SUP>86</SUP>Sr|0.715|0.703|\n",
    "|Nd|20 ppm|2 ppm|\n",
    "|<SUP>143</SUP>Nd/<SUP>144</SUP>Nd|0.511|0.513|"
   ]
  },
  {
   "cell_type": "markdown",
   "metadata": {
    "collapsed": true
   },
   "source": [
    "* Calculate the Sr (ppm), <SUP>87</SUP>Sr/<SUP>86</SUP>Sr, Nd (ppm) and <SUP>143</SUP>Nd/<SUP>144</SUP>Nd of mixtures containing 0, 5, 10, … 100 % of the schist; print the result in a table. \n",
    "* Plot a theoretical mixing hyperbola in the <SUP>87</SUP>Sr/<SUP>86</SUP>Sr – <SUP>143</SUP>Nd/<SUP>144</SUP>Nd space.\n",
    "* Calculate and plot the asymptotes."
   ]
  },
  {
   "cell_type": "code",
   "execution_count": 17,
   "metadata": {},
   "outputs": [
    {
     "data": {
      "text/html": [
       "<table>\n",
       "<thead><tr><th></th><th scope=col>Sr</th><th scope=col>87Sr/86Sr</th><th scope=col>Nd</th><th scope=col>143Nd/144Nd</th></tr></thead>\n",
       "<tbody>\n",
       "\t<tr><th scope=row>0</th><td>600.0    </td><td>0.7030000</td><td>2.0      </td><td>0.5130000</td></tr>\n",
       "\t<tr><th scope=row>0.05</th><td>577.5    </td><td>0.7031558</td><td>2.9      </td><td>0.5123103</td></tr>\n",
       "\t<tr><th scope=row>0.1</th><td>555.0    </td><td>0.7033243</td><td>3.8      </td><td>0.5119474</td></tr>\n",
       "\t<tr><th scope=row>0.15</th><td>532.5    </td><td>0.7035070</td><td>4.7      </td><td>0.5117234</td></tr>\n",
       "\t<tr><th scope=row>0.2</th><td>510.0    </td><td>0.7037059</td><td>5.6      </td><td>0.5115714</td></tr>\n",
       "\t<tr><th scope=row>0.25</th><td>487.5    </td><td>0.7039231</td><td>6.5      </td><td>0.5114615</td></tr>\n",
       "</tbody>\n",
       "</table>\n"
      ],
      "text/latex": [
       "\\begin{tabular}{r|llll}\n",
       "  & Sr & 87Sr/86Sr & Nd & 143Nd/144Nd\\\\\n",
       "\\hline\n",
       "\t0 & 600.0     & 0.7030000 & 2.0       & 0.5130000\\\\\n",
       "\t0.05 & 577.5     & 0.7031558 & 2.9       & 0.5123103\\\\\n",
       "\t0.1 & 555.0     & 0.7033243 & 3.8       & 0.5119474\\\\\n",
       "\t0.15 & 532.5     & 0.7035070 & 4.7       & 0.5117234\\\\\n",
       "\t0.2 & 510.0     & 0.7037059 & 5.6       & 0.5115714\\\\\n",
       "\t0.25 & 487.5     & 0.7039231 & 6.5       & 0.5114615\\\\\n",
       "\\end{tabular}\n"
      ],
      "text/markdown": [
       "\n",
       "| <!--/--> | Sr | 87Sr/86Sr | Nd | 143Nd/144Nd | \n",
       "|---|---|---|---|---|---|\n",
       "| 0 | 600.0     | 0.7030000 | 2.0       | 0.5130000 | \n",
       "| 0.05 | 577.5     | 0.7031558 | 2.9       | 0.5123103 | \n",
       "| 0.1 | 555.0     | 0.7033243 | 3.8       | 0.5119474 | \n",
       "| 0.15 | 532.5     | 0.7035070 | 4.7       | 0.5117234 | \n",
       "| 0.2 | 510.0     | 0.7037059 | 5.6       | 0.5115714 | \n",
       "| 0.25 | 487.5     | 0.7039231 | 6.5       | 0.5114615 | \n",
       "\n",
       "\n"
      ],
      "text/plain": [
       "     Sr    87Sr/86Sr Nd  143Nd/144Nd\n",
       "0    600.0 0.7030000 2.0 0.5130000  \n",
       "0.05 577.5 0.7031558 2.9 0.5123103  \n",
       "0.1  555.0 0.7033243 3.8 0.5119474  \n",
       "0.15 532.5 0.7035070 4.7 0.5117234  \n",
       "0.2  510.0 0.7037059 5.6 0.5115714  \n",
       "0.25 487.5 0.7039231 6.5 0.5114615  "
      ]
     },
     "metadata": {},
     "output_type": "display_data"
    },
    {
     "data": {
      "text/html": [
       "<table>\n",
       "<thead><tr><th></th><th scope=col>Sr</th><th scope=col>87Sr/86Sr</th><th scope=col>Nd</th><th scope=col>143Nd/144Nd</th></tr></thead>\n",
       "<tbody>\n",
       "\t<tr><th scope=row>0.75</th><td>262.5    </td><td>0.7081429</td><td>15.5     </td><td>0.5110645</td></tr>\n",
       "\t<tr><th scope=row>0.8</th><td>240.0    </td><td>0.7090000</td><td>16.4     </td><td>0.5110488</td></tr>\n",
       "\t<tr><th scope=row>0.85</th><td>217.5    </td><td>0.7100345</td><td>17.3     </td><td>0.5110347</td></tr>\n",
       "\t<tr><th scope=row>0.9</th><td>195.0    </td><td>0.7113077</td><td>18.2     </td><td>0.5110220</td></tr>\n",
       "\t<tr><th scope=row>0.95</th><td>172.5    </td><td>0.7129130</td><td>19.1     </td><td>0.5110105</td></tr>\n",
       "\t<tr><th scope=row>1</th><td>150.0    </td><td>0.7150000</td><td>20.0     </td><td>0.5110000</td></tr>\n",
       "</tbody>\n",
       "</table>\n"
      ],
      "text/latex": [
       "\\begin{tabular}{r|llll}\n",
       "  & Sr & 87Sr/86Sr & Nd & 143Nd/144Nd\\\\\n",
       "\\hline\n",
       "\t0.75 & 262.5     & 0.7081429 & 15.5      & 0.5110645\\\\\n",
       "\t0.8 & 240.0     & 0.7090000 & 16.4      & 0.5110488\\\\\n",
       "\t0.85 & 217.5     & 0.7100345 & 17.3      & 0.5110347\\\\\n",
       "\t0.9 & 195.0     & 0.7113077 & 18.2      & 0.5110220\\\\\n",
       "\t0.95 & 172.5     & 0.7129130 & 19.1      & 0.5110105\\\\\n",
       "\t1 & 150.0     & 0.7150000 & 20.0      & 0.5110000\\\\\n",
       "\\end{tabular}\n"
      ],
      "text/markdown": [
       "\n",
       "| <!--/--> | Sr | 87Sr/86Sr | Nd | 143Nd/144Nd | \n",
       "|---|---|---|---|---|---|\n",
       "| 0.75 | 262.5     | 0.7081429 | 15.5      | 0.5110645 | \n",
       "| 0.8 | 240.0     | 0.7090000 | 16.4      | 0.5110488 | \n",
       "| 0.85 | 217.5     | 0.7100345 | 17.3      | 0.5110347 | \n",
       "| 0.9 | 195.0     | 0.7113077 | 18.2      | 0.5110220 | \n",
       "| 0.95 | 172.5     | 0.7129130 | 19.1      | 0.5110105 | \n",
       "| 1 | 150.0     | 0.7150000 | 20.0      | 0.5110000 | \n",
       "\n",
       "\n"
      ],
      "text/plain": [
       "     Sr    87Sr/86Sr Nd   143Nd/144Nd\n",
       "0.75 262.5 0.7081429 15.5 0.5110645  \n",
       "0.8  240.0 0.7090000 16.4 0.5110488  \n",
       "0.85 217.5 0.7100345 17.3 0.5110347  \n",
       "0.9  195.0 0.7113077 18.2 0.5110220  \n",
       "0.95 172.5 0.7129130 19.1 0.5110105  \n",
       "1    150.0 0.7150000 20.0 0.5110000  "
      ]
     },
     "metadata": {},
     "output_type": "display_data"
    }
   ],
   "source": [
    "# Strontium\n",
    "cx1 <- 150; cy1 <- 600          # Sr, schist and basalt\n",
    "ix1 <- 0.715; iy1 <- 0.703      # 87Sr/86Sr, schist and basalt\n",
    " f1 <- seq(0,1,by=0.05)         #  prop. of schist in mixture\n",
    "cm1 <- cx1*f1+(1-f1)*cy1        # Sr conc. mix [Eq. (16.2)]\n",
    "im1 <- ix1*cx1*f1/cm1+iy1*cy1*(1-f1)/cm1\n",
    "\n",
    "# Neodymium\n",
    "cx2 <- 20; cy2 <- 2             # Nd in schist and basalt\n",
    "ix2 <- 0.511; iy2 <- 0.513      # 143Nd/144Nd, schist/basalt\n",
    "cm2 <- cx2*f1+(1-f1)*cy2        # Nd conc., mix [Eq. (16.2)]\n",
    "im2 <- ix2*cx2*f1/cm2+iy2*cy2*(1-f1)/cm2\n",
    "\n",
    "# Prepare results table\n",
    "res <- cbind(cm1,im1,cm2,im2)\n",
    "rownames(res) <- f1\n",
    "colnames(res) <- c(\"Sr\",\"87Sr/86Sr\",\"Nd\",\"143Nd/144Nd\")\n",
    "head(res)\n",
    "tail(res)"
   ]
  },
  {
   "cell_type": "code",
   "execution_count": 20,
   "metadata": {},
   "outputs": [
    {
     "name": "stdout",
     "output_type": "stream",
     "text": [
      "[1] 0.7026923\n",
      "[1] 0.5109487\n"
     ]
    },
    {
     "data": {
      "image/png": "[encoded data removed]",
      "text/plain": [
       "plot without title"
      ]
     },
     "metadata": {},
     "output_type": "display_data"
    }
   ],
   "source": [
    "# Plot the mixing hyperbola\n",
    "xlab <- expression(\"\"^87*Sr/\"\"^86*Sr)\n",
    "ylab <- expression(\"\"^143*Nd/\" \"^144*Nd)\n",
    "plot(im1,im2,xlab=xlab,ylab=ylab,type=\"b\",\n",
    "    xlim=c(0.7023,0.7152),ylim=c(0.5109,0.5131),pch=19)\n",
    "\n",
    "# Calculate and plot asymptotes\n",
    "alpha <- (cy1/cy2)/(cx1/cx2)    # calc. alpha [Eq. (16.8)]\n",
    "x0 <- (ix1-alpha*iy1)/(1-alpha) # calc. asymptotes [Eq. (16.14)]\n",
    "y0 <- (iy2-alpha*ix2)/(1-alpha) \n",
    "print(x0)\n",
    "print(y0)\n",
    "\n",
    "# draw the asymptotes\n",
    "abline(v=x0,lty=\"dashed\")       \n",
    "abline(h=y0,lty=\"dashed\")"
   ]
  },
  {
   "cell_type": "markdown",
   "metadata": {},
   "source": [
    "**References**\n",
    "\n",
    "Janoušek V, Bowes DR, Braithwaite CJR, Rogers G (2000) Microstructural and mineralogical evidence for limited involvement of magma mixing in the petrogenesis of a Hercynian high-K calc-alkaline intrusion: the Kozárovice granodiorite, Central Bohemian Pluton, Czech Republic. Trans Roy Soc Edinb, Earth Sci 91:15-26"
   ]
  },
  {
   "cell_type": "code",
   "execution_count": null,
   "metadata": {
    "collapsed": true
   },
   "outputs": [],
   "source": []
  },
  {
   "cell_type": "code",
   "execution_count": null,
   "metadata": {
    "collapsed": true
   },
   "outputs": [],
   "source": []
  }
 ],
 "metadata": {
  "kernelspec": {
   "display_name": "R",
   "language": "R",
   "name": "ir"
  },
  "language_info": {
   "codemirror_mode": "r",
   "file_extension": ".r",
   "mimetype": "text/x-r-source",
   "name": "R",
   "pygments_lexer": "r",
   "version": "3.4.3"
  }
 },
 "nbformat": 4,
 "nbformat_minor": 1
}
