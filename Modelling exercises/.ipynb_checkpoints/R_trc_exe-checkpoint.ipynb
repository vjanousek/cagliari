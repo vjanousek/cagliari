{
 "cells": [
  {
   "cell_type": "markdown",
   "metadata": {},
   "source": [
    "<img src=\"images/cleaning.jpg\" style=\"float:right;width:150px;\"> \n",
    "# Trace elements"
   ]
  },
  {
   "cell_type": "code",
   "execution_count": 1,
   "metadata": {},
   "outputs": [
    {
     "name": "stderr",
     "output_type": "stream",
     "text": [
      "Loading required package: MASS\n",
      "Loading required package: grid\n",
      "Loading required package: lattice\n",
      "Loading required package: foreign\n",
      "Loading required package: RODBC\n",
      "Warning message:\n",
      "\"package 'RODBC' was built under R version 3.2.5\"Loading required package: R2HTML\n",
      "Warning message:\n",
      "\"package 'R2HTML' was built under R version 3.2.5\"Loading required package: tcltk\n",
      "Loading required package: sp\n",
      "Warning message:\n",
      "\"package 'sp' was built under R version 3.2.5\""
     ]
    },
    {
     "name": "stdout",
     "output_type": "stream",
     "text": [
      "Loading spiderplot: spider_by_group.r......Ok\n",
      "Loading spiderplot: spider_by_group_individual.r......Ok\n",
      "Loading spiderplot: spider_contour.r......Ok\n",
      "Loading spiderplot: spider_double_norm.r......Ok\n",
      "Loading spiderplot: spiderplot.r......Ok\n",
      "Loading classification diagram: AFM.r......Ok\n",
      "Loading classification diagram: CoxPlut.r......Ok\n",
      "Loading classification diagram: CoxVolc.r......Ok\n",
      "Loading classification diagram: DebonBA.r......Ok\n",
      "Loading classification diagram: DebonPQ.r......Ok\n",
      "Loading classification diagram: Hastie.r......Ok\n",
      "Loading classification diagram: Jensen.r......Ok\n",
      "Loading classification diagram: LarochePlut.r......Ok\n",
      "Loading classification diagram: LarocheVolc.r......Ok\n",
      "Loading classification diagram: MiddlemostPlut.r......Ok\n",
      "Loading classification diagram: Miyashiro.r......Ok\n",
      "Loading classification diagram: NaAlK.r......Ok\n",
      "Loading classification diagram: OConnorPlut.r......Ok\n",
      "Loading classification diagram: OConnorVolc.r......Ok\n",
      "Loading classification diagram: Pearce1996.r......Ok\n",
      "Loading classification diagram: PeceTaylor.r......Ok\n",
      "Loading classification diagram: QAPFPlut.r......Ok\n",
      "Loading classification diagram: QAPFVolc.r......Ok\n",
      "Loading classification diagram: Shand.r......Ok\n",
      "Loading classification diagram: TAS.r......Ok\n",
      "Loading classification diagram: TASadd.r......Ok\n",
      "Loading classification diagram: TASMiddlemostPlut.r......Ok\n",
      "Loading classification diagram: TASMiddlemostVolc.r......Ok\n",
      "Loading classification diagram: Villaseca.r......Ok\n",
      "Loading classification diagram: WinFloyd1.r......Ok\n",
      "Loading classification diagram: WinFloyd2.r......Ok\n",
      "Loading geotectonic diagram: Agrawal.r......Ok\n",
      "Loading geotectonic diagram: Batchelor.r......Ok\n",
      "Loading geotectonic diagram: FeMiddlemost.r......Ok\n",
      "Loading geotectonic diagram: Frost.r......Ok\n",
      "Loading geotectonic diagram: Harris.r......Ok\n",
      "Loading geotectonic diagram: Maniar.r......Ok\n",
      "Loading geotectonic diagram: Meschede.r......Ok\n",
      "Loading geotectonic diagram: Mullen.r......Ok\n",
      "Loading geotectonic diagram: Muller_final.r......Ok\n",
      "Loading geotectonic diagram: Pearce_1982.r......Ok\n",
      "Loading geotectonic diagram: Pearce_and_Cann.r......Ok\n",
      "Loading geotectonic diagram: Pearce_and_Norry.r......Ok\n",
      "Loading geotectonic diagram: Pearce_et_al_1977.r......Ok\n",
      "Loading geotectonic diagram: Pearce_granite.r......Ok\n",
      "Loading geotectonic diagram: PearceNbThYb.r......Ok\n",
      "Loading geotectonic diagram: PearceNbTiYb.r......Ok\n",
      "Loading geotectonic diagram: Shervais.r......Ok\n",
      "Loading geotectonic diagram: Schandl_and_Gorton.r......Ok\n",
      "Loading geotectonic diagram: Sylvester.r......Ok\n",
      "Loading geotectonic diagram: Verma.r......Ok\n",
      "Loading geotectonic diagram: Whalen.r......Ok\n",
      "Loading geotectonic diagram: Wood.r......Ok\n",
      "Loading normative algorithm: Catanorm.r......Ok\n",
      "Loading normative algorithm: CIPW.r......Ok\n",
      "Loading normative algorithm: CIPWhb.r......Ok\n",
      "Loading normative algorithm: Mesonorm.r......Ok\n",
      "Loading normative algorithm: Misc.r......Ok\n",
      "Loading normative algorithm: Mode.r......Ok\n",
      "Loading normative algorithm: Niggli.r......Ok\n",
      "Loading normative algorithm: Streckeisen.r......Ok\n"
     ]
    },
    {
     "name": "stderr",
     "output_type": "stream",
     "text": [
      "Patching.... please wait\n",
      "\n",
      "Windows version: Windows 7 x64 (build 7601) Service Pack 1\n",
      "R version: i386-w64-mingw323.2.1\n",
      "Geochemical Data Toolkit (GCDkit) 4.1,\n",
      "built R 3.2.1; ; 2016-02-10 19:31:26 UTC; windows\n",
      "\n",
      "Please support our efforts and cite the package 'GCDkit' in publications\n",
      "using the reference below. Type 'citation(\"GCDkit\")' for BibTex version.\n",
      "\n",
      "Vojtech Janousek, Colin M. Farrow and Vojtech Erban (2006).\n",
      "Interpretation of whole-rock geochemical data in igneous geochemistry:\n",
      "introducing Geochemical Data Toolkit (GCDkit).\n",
      "Journal of Petrology 47(6): 1255-1259.\n",
      "doi: 10.1093/petrology/egl013\n",
      "\n",
      "Ready 2 Go - Enjoy!\n"
     ]
    }
   ],
   "source": [
    "# Run the GCDkit library (if available)\n",
    "exe.dir<-getwd()\n",
    "library(GCDkit, warn.conflicts=FALSE)\n",
    "setwd(exe.dir)"
   ]
  },
  {
   "cell_type": "markdown",
   "metadata": {},
   "source": [
    "### 14.2: Fractional crystallization (direct trc)\n",
    "The following file shows the REE concentrations in a tonalitic magma (ppm), as well as the partition coefficients for crystallizing mineral phases: \n",
    "\n",
    "<div style=\"text-align: right\"> \n",
    "<img src=\"images/floppy.png\" style=\"float:right;width:30px;height:30px;\">\n",
    "ttg_a.data </div>"
   ]
  },
  {
   "cell_type": "markdown",
   "metadata": {},
   "source": [
    "<img src=\"images/exercise-icon.png\" style=\"float:left;width:40px;height:40px;\">\n",
    "\n",
    "A differentiated magma is generated by 30% fractional crystallization of a parental magma (H34); the cumulate consists of plagioclase, hornblende and ilmenite.\n",
    "* Calculate the differentiated magma composition for a cumulate made up of 49 % plagioclase, 49 % hornblende, and 2 % ilmenite.\n",
    "* By means of the GCDkit function spider, plot chondrite-normalized REE patterns (using normalization values after Boynton 1984)."
   ]
  },
  {
   "cell_type": "code",
   "execution_count": 2,
   "metadata": {
    "scrolled": true
   },
   "outputs": [
    {
     "name": "stdout",
     "output_type": "stream",
     "text": [
      "      C0   D1   CS1 CSavg1   CL1\n",
      "La 32.04 0.56 20.95  19.30 37.50\n",
      "Ce 61.90 0.88 56.73  55.43 64.67\n",
      "Nd 25.75 2.19 36.89  46.54 16.84\n",
      "Sm  3.97 3.87  5.52   9.91  1.43\n",
      "Eu  0.97 3.57  1.38   2.32  0.39\n",
      "Gd  2.30 4.95  2.78   6.35  0.56\n",
      "Dy  1.16 6.40  1.08   3.47  0.17\n",
      "Er  0.46 5.91  0.47   1.35  0.08\n",
      "Yb  0.37 4.14  0.50   0.95  0.12\n",
      "Lu  0.06 2.96  0.08   0.12  0.03\n"
     ]
    }
   ],
   "source": [
    "x <- read.table(\"data/ttg_a.data\",sep=\"\\t\")\n",
    "x <- as.matrix(x)               # transform dataframe to matrix\n",
    "c0 <- x[,1]                     # parental magma composition\n",
    "kd <- x[,-1]                    # table of distribution coefficients\n",
    "fc <- 0.3                       # degree of fractionation\n",
    "ff <- 1-fc                      # fraction of the melt left \n",
    "m1 <- c(0.49,0.49,0.02)       # mineral props in cumulate (1)\n",
    "dd1 <- kd%*%m1                  # bulk distrib. coeff. [Eq.(10.4)]\n",
    "names(m1) <- colnames(dd1)\n",
    "cl1 <- c0*ff^(dd1-1)            # melt composition\n",
    "cs1 <- dd1*cl1                  # instantaneous solid\n",
    "csavg1 <- c0*(1-ff^dd1)/(1-ff)  # average solid\n",
    "result <- cbind(c0,dd1,cs1,csavg1,cl1)\n",
    "colnames(result) <- c(\"C0\",\"D1\",\"CS1\",\"CSavg1\",\"CL1\")\n",
    "print(round(result,2))"
   ]
  },
  {
   "cell_type": "code",
   "execution_count": 3,
   "metadata": {},
   "outputs": [
    {
     "name": "stdout",
     "output_type": "stream",
     "text": [
      "          La       Ce       Nd       Sm        Eu        Gd        Dy\n",
      "C0  32.04000 61.90000 25.75000 3.970000 0.9660000 2.3000000 1.1600000\n",
      "CL1 37.50168 64.67099 16.84125 1.425726 0.3859509 0.5625939 0.1689235\n",
      "            Er        Yb         Lu\n",
      "C0  0.46000000 0.3700000 0.05700000\n",
      "CL1 0.07990119 0.1206634 0.02828549\n"
     ]
    }
   ],
   "source": [
    "# If GCDkit is available, make a spiderplot\n",
    "data <- t(result[,c(\"C0\",\"CL1\")])\n",
    "print(data)\n",
    "options(repr.plot.width=4.5, repr.plot.height=3)\n",
    "spider(data,\"Boynton\",0.1,1000,pch=c(15,1),col=c(\"black\",\"red\"))"
   ]
  },
  {
   "cell_type": "markdown",
   "metadata": {
    "collapsed": true
   },
   "source": [
    "### 15.1: Fractional crystallization (reversed Ex. 14.2)\n",
    "\n",
    "The following file contains trace-element compositions of two tonalites, a primitive WR1 and a differentiated WR2, together with corresponding partition coefficients for the relevant rock-forming minerals.\n",
    "\n",
    "\n",
    "<div style=\"text-align: right\"> \n",
    "<img src=\"images/floppy.png\" style=\"float:right;width:30px;height:30px;\">\n",
    "ttg_a2.data </div>"
   ]
  },
  {
   "cell_type": "markdown",
   "metadata": {},
   "source": [
    "<img src=\"images/exercise-icon.png\" style=\"float:left;width:40px;height:40px;\">\n",
    "Let’s assume that WR1 and WR2 represent pure compositions of a tonalitic melt differentiating by Rayleigh-type fractional crystallization.\n",
    "* Using the least-square method, estimate the modal composition of the cumulate and the degree of fractional crystallization."
   ]
  },
  {
   "cell_type": "code",
   "execution_count": 4,
   "metadata": {},
   "outputs": [
    {
     "name": "stdout",
     "output_type": "stream",
     "text": [
      "29.9 % fractional crystallization  \n",
      "  Pl  Amp  Ilm \n",
      "49.0 49.2  1.8 \n"
     ]
    }
   ],
   "source": [
    "x <- read.table(\"data/ttg_a2.data\",sep=\"\\t\")\n",
    "x <- data.matrix(x)\n",
    "dmat <- x[,-(1:2)]-1    # bulk distrib. coeffs - 1 [Eq. (12.3)]\n",
    "cv <- log(x[,2]/x[,1])  # log ratios of differentiated/primitive magma comp. [Eq. (12.4)]\n",
    "ee <- lsfit(dmat,cv,intercept=FALSE)\n",
    "mm <- ee$coeff\n",
    "ff <- exp(sum(mm))      # fraction of melt remaining [Eq.(13.7)]\n",
    "cat(round((1-ff)*100,1),\"% fractional crystallization \",\"\\n\")\n",
    "m <- mm/log(ff)*100     # mineral proportions [Eq. (13.8)]\n",
    "print(round(m,1))"
   ]
  },
  {
   "cell_type": "markdown",
   "metadata": {},
   "source": [
    "### 14.5 (completed): Saturation models for accessory minerals\n",
    "The file contains major-element and Zr contents in Boggy Plain Suite of the Lachlan Fold Belt (New South Wales, Australia) [Wyborn,  1983; OzChem compilation http://www.ga.gov.au]\n",
    "\n",
    "<div style=\"text-align: right\"> \n",
    "<img src=\"images/floppy.png\" style=\"float:right;width:30px;height:30px;\">\n",
    "boggy_plain.data </div>"
   ]
  },
  {
   "cell_type": "markdown",
   "metadata": {},
   "source": [
    "<img src=\"images/exercise-icon.png\" style=\"float:left;width:40px;height:40px;\">\n",
    "Based on the Watson and Harrison’s (1983) zircon saturation model, in GCDkit:\n",
    "* Plot a binary graph of M vs. Zr (ppm) for the Boggy Plain Suite with superimposed isotherms of zircon saturation temperatures in ºC [Eq. (13.3)]."
   ]
  },
  {
   "cell_type": "code",
   "execution_count": 5,
   "metadata": {},
   "outputs": [
    {
     "name": "stdout",
     "output_type": "stream",
     "text": [
      "Text file...loading...\n",
      "data/boggy_plain.data \n",
      "......\n",
      "Processing...Please wait...\n",
      "Identifying the data types present...\n",
      "Major elements\n",
      "......... done!\n",
      "Trace elements \n",
      "......... done!\n",
      "Available datasets:\n",
      "[1] \"boggy_plain.data\"\n"
     ]
    }
   ],
   "source": [
    "# GCDkit required from now on\n",
    "loadData(\"data/boggy_plain.data\")\n",
    "options(repr.plot.width=4.5, repr.plot.height=4.5)"
   ]
  },
  {
   "cell_type": "code",
   "execution_count": 6,
   "metadata": {},
   "outputs": [
    {
     "data": {
      "image/png": "[encoded data removed]",
      "text/plain": [
       "plot without title"
      ]
     },
     "metadata": {},
     "output_type": "display_data"
    }
   ],
   "source": [
    "# Plot 1\n",
    "# Create an empty plot (type=\"n\") with an appropriate range\n",
    "plot(1,1,xlim=c(650,950),ylim=c(0,650),xlab=expression(T*degree*C),ylab=\"Zr (ppm)\",type=\"n\")\n",
    "M <- seq(0.9,2.0,by=0.1)                # Setup the M values\n",
    "col <- selectPalette(length(M),\"jet.colours\") # The colours\n",
    "for (i in 1:length(M)){\n",
    "    curve(497644/exp(-3.8-0.85*(M[i]-1)+12900/(x+273.15)),lty=\"solid\",lwd=2,col=col[i],add=TRUE)\n",
    "}\n",
    "# Legend colour-coded for individual M values\n",
    "legend(\"bottomright\",text.col=col,legend=M,title=\"M\",bg=\"white\",ncol=2)"
   ]
  },
  {
   "cell_type": "code",
   "execution_count": 9,
   "metadata": {},
   "outputs": [
    {
     "ename": "ERROR",
     "evalue": "Error in .External2(C_winMenuNames): menu functions can only be used in the GUI\n",
     "output_type": "error",
     "traceback": [
      "Error in .External2(C_winMenuNames): menu functions can only be used in the GUI\nTraceback:\n",
      "1. source(\"PLugin/saturation.r\")",
      "2. withVisible(eval(ei, envir))",
      "3. eval(ei, envir)",
      "4. eval(expr, envir, enclos)",
      "5. winMenuAddItem(\"Plugins\", \"Saturation\", \".saturationMenu()\")",
      "6. menuname %in% winMenuNames()",
      "7. match(x, table, nomatch = 0L)",
      "8. winMenuNames()"
     ]
    }
   ],
   "source": [
    "# Plot 2\n",
    "# Call plugin with arbitrary T, we do not use Zr sat values\n",
    "setwd(gcdx.dir)\n",
    "source(\"PLugin/saturation.r\")\n",
    "ls()"
   ]
  },
  {
   "cell_type": "code",
   "execution_count": 8,
   "metadata": {},
   "outputs": [
    {
     "ename": "ERROR",
     "evalue": "Error in eval(expr, envir, enclos): could not find function \"zrSaturation\"\n",
     "output_type": "error",
     "traceback": [
      "Error in eval(expr, envir, enclos): could not find function \"zrSaturation\"\nTraceback:\n"
     ]
    }
   ],
   "source": [
    "sat.data <- zrSaturation(T=800)\n",
    "# Create a plot with Boggy Plain data of appropriate range\n",
    "plot(sat.data[,\"M\"],WR[,\"Zr\"],xlim=c(0.9,2.5),ylim=c(0,250),xlab=\"M\",ylab=\"Zr (ppm)\",pch=19)\n",
    "tt <- seq(650,950,by=50)                # Setup the temperatures\n",
    "col <- selectPalette(length(tt),\"jet.colours\") # The colours\n",
    "for (i in 1:length(tt)){\n",
    "    curve(497644/exp(-3.8-0.85*(x-1)+12900/(tt[i]+273.15)),lty=\"solid\",lwd=2,col=col[i],add=TRUE)\n",
    "\n",
    "    # Prepare textual labels\n",
    "    lab <- eval(substitute(expression(x*degree*C),list(x=tt[i])))\n",
    "    M <- 0.9\n",
    "    text(M,497644/exp(-3.8-0.85*(M-1)+12900/(tt[i]+273.15))-5,lab,adj=0,col=col[i])\n",
    "}"
   ]
  },
  {
   "cell_type": "code",
   "execution_count": null,
   "metadata": {
    "collapsed": true
   },
   "outputs": [],
   "source": [
    "addResults(\"sat.data\")\n",
    "binary(\"SiO2\",\"TZr.sat.C\",pch=15)"
   ]
  }
 ],
 "metadata": {
  "kernelspec": {
   "display_name": "R",
   "language": "R",
   "name": "ir"
  },
  "language_info": {
   "codemirror_mode": "r",
   "file_extension": ".r",
   "mimetype": "text/x-r-source",
   "name": "R",
   "pygments_lexer": "r",
   "version": "3.2.1"
  }
 },
 "nbformat": 4,
 "nbformat_minor": 1
}
